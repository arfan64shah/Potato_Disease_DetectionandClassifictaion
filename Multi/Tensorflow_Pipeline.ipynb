{
 "cells": [
  {
   "cell_type": "code",
   "execution_count": 2,
   "id": "a6122092-df66-4cc4-832c-718757abf3cb",
   "metadata": {},
   "outputs": [],
   "source": [
    "# import required libraries\n",
    "import tensorflow as tf\n",
    "import matplotlib.pyplot as plt\n",
    "import os"
   ]
  },
  {
   "cell_type": "code",
   "execution_count": 3,
   "id": "9f1d2006-8c00-4ba9-a8ce-4df6bcf78d37",
   "metadata": {},
   "outputs": [],
   "source": [
    "# declare a list of random values\n",
    "daily_sales = [23, 45, 11, -1, -34, 0, 12, 33]"
   ]
  },
  {
   "cell_type": "code",
   "execution_count": 4,
   "id": "c93ba3eb-fa2a-4095-9c1d-af4f590973b2",
   "metadata": {},
   "outputs": [],
   "source": [
    "# make a pipeline using tensorflow\n",
    "dataset = tf.data.Dataset.from_tensor_slices(daily_sales)"
   ]
  },
  {
   "cell_type": "code",
   "execution_count": 5,
   "id": "1563b902-8b4b-4ef5-9415-524393d09cb9",
   "metadata": {},
   "outputs": [
    {
     "data": {
      "text/plain": [
       "<_TensorSliceDataset element_spec=TensorSpec(shape=(), dtype=tf.int32, name=None)>"
      ]
     },
     "execution_count": 5,
     "metadata": {},
     "output_type": "execute_result"
    }
   ],
   "source": [
    "dataset"
   ]
  },
  {
   "cell_type": "code",
   "execution_count": 6,
   "id": "3d98bfb7-8e92-4367-b35c-cada3df18af4",
   "metadata": {},
   "outputs": [
    {
     "name": "stdout",
     "output_type": "stream",
     "text": [
      "23\n",
      "45\n",
      "11\n",
      "-1\n",
      "-34\n",
      "0\n",
      "12\n",
      "33\n"
     ]
    }
   ],
   "source": [
    "# iterate through dataset and show elements\n",
    "for element in dataset:\n",
    "    print(element.numpy())"
   ]
  },
  {
   "cell_type": "code",
   "execution_count": 7,
   "id": "9cdc079e-84ba-4e78-8d9d-1d943a09ec70",
   "metadata": {},
   "outputs": [
    {
     "name": "stdout",
     "output_type": "stream",
     "text": [
      "23\n",
      "45\n",
      "11\n"
     ]
    }
   ],
   "source": [
    "# if want to show selected no of elements\n",
    "for i in dataset.take(3):\n",
    "    print(i.numpy())"
   ]
  },
  {
   "cell_type": "code",
   "execution_count": 8,
   "id": "2f547715-197b-4a89-bf53-f43caea690bb",
   "metadata": {},
   "outputs": [],
   "source": [
    "# now remove negative values from dataset\n",
    "dataset = dataset.filter(lambda x: x >= 0)"
   ]
  },
  {
   "cell_type": "code",
   "execution_count": 9,
   "id": "bc845f8d-b192-4b15-92ad-852c58d78532",
   "metadata": {},
   "outputs": [
    {
     "name": "stdout",
     "output_type": "stream",
     "text": [
      "23\n",
      "45\n",
      "11\n",
      "0\n",
      "12\n",
      "33\n"
     ]
    }
   ],
   "source": [
    "# iterate again and check\n",
    "for j in dataset.as_numpy_iterator():\n",
    "    print(j)"
   ]
  },
  {
   "cell_type": "code",
   "execution_count": 10,
   "id": "2670c1b1-0278-416c-9f7c-fd326699b1df",
   "metadata": {},
   "outputs": [],
   "source": [
    "# convert above data to pkr as it is in usd\n",
    "dataset = dataset.map(lambda y: y*279)"
   ]
  },
  {
   "cell_type": "code",
   "execution_count": 11,
   "id": "3563620f-64b7-488a-a028-715b52e3c1fc",
   "metadata": {},
   "outputs": [
    {
     "name": "stdout",
     "output_type": "stream",
     "text": [
      "6417\n",
      "12555\n",
      "3069\n",
      "0\n",
      "3348\n",
      "9207\n"
     ]
    }
   ],
   "source": [
    "for k in dataset.as_numpy_iterator():\n",
    "    print(k)"
   ]
  },
  {
   "cell_type": "code",
   "execution_count": 12,
   "id": "0c3a7064-96d1-4fa0-a5f0-f7ba2611a633",
   "metadata": {},
   "outputs": [
    {
     "name": "stdout",
     "output_type": "stream",
     "text": [
      "6417\n",
      "12555\n",
      "0\n",
      "3069\n",
      "3348\n",
      "9207\n"
     ]
    }
   ],
   "source": [
    "# shuffle data elements\n",
    "dataset = dataset.shuffle(2)\n",
    "\n",
    "for m in dataset.as_numpy_iterator():\n",
    "    print(m)"
   ]
  },
  {
   "cell_type": "code",
   "execution_count": 13,
   "id": "a7f9792d-c694-449b-841d-94269922bc55",
   "metadata": {},
   "outputs": [
    {
     "name": "stdout",
     "output_type": "stream",
     "text": [
      "[12555  3069     0]\n",
      "[3348 6417 9207]\n"
     ]
    }
   ],
   "source": [
    "# we can create batches \n",
    "\n",
    "for j in dataset.batch(3):\n",
    "    print(j.numpy())"
   ]
  },
  {
   "cell_type": "code",
   "execution_count": 14,
   "id": "5fb01ffb-fec2-426b-8d22-e52b5c3a8466",
   "metadata": {},
   "outputs": [],
   "source": [
    "# combine all the above operations in just one line and make a pipeline\n",
    "dataset_pipe = tf.data.Dataset.from_tensor_slices(daily_sales)\n",
    "dataset_pipe = dataset_pipe.filter(lambda x: x >= 0).map(lambda y: y*279).shuffle(2).batch(3)"
   ]
  },
  {
   "cell_type": "code",
   "execution_count": 15,
   "id": "71b7f963-6ae4-44f1-a221-2fe277e2009d",
   "metadata": {},
   "outputs": [
    {
     "data": {
      "text/plain": [
       "<_BatchDataset element_spec=TensorSpec(shape=(None,), dtype=tf.int32, name=None)>"
      ]
     },
     "execution_count": 15,
     "metadata": {},
     "output_type": "execute_result"
    }
   ],
   "source": [
    "dataset_pipe"
   ]
  },
  {
   "cell_type": "code",
   "execution_count": 16,
   "id": "a631d077-6d9d-43ab-96b0-bb16b4901446",
   "metadata": {},
   "outputs": [
    {
     "name": "stdout",
     "output_type": "stream",
     "text": [
      "[12555  3069  6417]\n",
      "[   0 9207 3348]\n"
     ]
    }
   ],
   "source": [
    "for i in dataset_pipe:\n",
    "    print(i.numpy())"
   ]
  },
  {
   "cell_type": "markdown",
   "id": "b8998df8-1987-4518-a0d0-e240e97204d3",
   "metadata": {},
   "source": [
    "# Pipeline To Read Image Files"
   ]
  },
  {
   "cell_type": "code",
   "execution_count": 17,
   "id": "1e78c43e-886e-4cc0-940b-664b9b5db1ea",
   "metadata": {},
   "outputs": [
    {
     "name": "stdout",
     "output_type": "stream",
     "text": [
      "b'C:\\\\Users\\\\Arfan Shah\\\\Train\\\\Potato___Early_blight\\\\b35e4c48-e54e-4e42-a399-b236209314f4___RS_Early.B 8231.JPG'\n",
      "b'C:\\\\Users\\\\Arfan Shah\\\\Train\\\\Potato___Early_blight\\\\df7e4d39-fb74-4e6d-9d32-04d7d2165135___RS_Early.B 6700_flipTB.JPG'\n",
      "b'C:\\\\Users\\\\Arfan Shah\\\\Train\\\\Potato___Early_blight\\\\bd4c7de8-0616-45d4-a060-54b8329a9462___RS_Early.B 6902_180deg.JPG'\n",
      "b'C:\\\\Users\\\\Arfan Shah\\\\Train\\\\Potato___Late_blight\\\\9996efa6-219d-4f07-aa12-dc8ca40609b9___RS_LB 2840.JPG'\n",
      "b'C:\\\\Users\\\\Arfan Shah\\\\Train\\\\Potato___Early_blight\\\\2639ad26-c7e9-4bd6-8000-c002f676a4c6___RS_Early.B 7150_flipTB.JPG'\n"
     ]
    }
   ],
   "source": [
    "# read images from the directory\n",
    "images_dataset = tf.data.Dataset.list_files(r\"C:\\Users\\Arfan Shah\\Train\\*\\*\", shuffle = True)\n",
    "\n",
    "# for loop to iterate over directory and then read images\n",
    "for i in images_dataset.take(5):\n",
    "    print(i.numpy())"
   ]
  },
  {
   "cell_type": "code",
   "execution_count": 18,
   "id": "dfdc274b-774a-4d4f-890c-ff0ef4161a66",
   "metadata": {},
   "outputs": [],
   "source": [
    "# declare classes in directory\n",
    "num_classes = ['Early_blight', 'Healthy', 'Late_blight']"
   ]
  },
  {
   "cell_type": "code",
   "execution_count": 19,
   "id": "d51af771-2b5a-44a2-a6d0-815b00596616",
   "metadata": {},
   "outputs": [
    {
     "data": {
      "text/plain": [
       "5702"
      ]
     },
     "execution_count": 19,
     "metadata": {},
     "output_type": "execute_result"
    }
   ],
   "source": [
    "# number of images in directory\n",
    "image_count = len(images_dataset)\n",
    "image_count"
   ]
  },
  {
   "cell_type": "code",
   "execution_count": 20,
   "id": "d51178a0-4671-44ad-a600-cb2a51b04051",
   "metadata": {},
   "outputs": [
    {
     "data": {
      "text/plain": [
       "4561"
      ]
     },
     "execution_count": 20,
     "metadata": {},
     "output_type": "execute_result"
    }
   ],
   "source": [
    "# training size from the actual dataset\n",
    "train_size = int(image_count*0.8)\n",
    "train_size"
   ]
  },
  {
   "cell_type": "code",
   "execution_count": 21,
   "id": "b6539c79-09e3-43ed-bdea-5a834b694938",
   "metadata": {},
   "outputs": [],
   "source": [
    "# training dataset\n",
    "train_dataset = images_dataset.take(train_size)\n",
    "\n",
    "# test dataset\n",
    "test_dataset = images_dataset.skip(train_size)"
   ]
  },
  {
   "cell_type": "code",
   "execution_count": 22,
   "id": "fc4f86a3-db73-4f00-bdba-c82f3717b0f3",
   "metadata": {},
   "outputs": [
    {
     "name": "stdout",
     "output_type": "stream",
     "text": [
      "4561\n",
      "1141\n"
     ]
    }
   ],
   "source": [
    "# legth of training and testing dataset\n",
    "print(len(train_dataset))\n",
    "print(len(test_dataset))"
   ]
  },
  {
   "cell_type": "code",
   "execution_count": 23,
   "id": "23516252-2bb4-42a7-9bdf-31857f77acff",
   "metadata": {},
   "outputs": [
    {
     "data": {
      "text/plain": [
       "'Potato___Late_blight'"
      ]
     },
     "execution_count": 23,
     "metadata": {},
     "output_type": "execute_result"
    }
   ],
   "source": [
    "# file path\n",
    "string = 'C:\\\\Users\\\\Arfan Shah\\\\Train\\\\Potato___Late_blight\\\\d438f9b3-2952-425e-8c5f-a92a21b35f5f___RS_LB 4470_180deg.JPG'\n",
    "string.split('\\\\')[-2]"
   ]
  },
  {
   "cell_type": "code",
   "execution_count": 24,
   "id": "d1b4a6c8-84fa-47bd-b9ee-8713d7fac080",
   "metadata": {},
   "outputs": [
    {
     "name": "stdout",
     "output_type": "stream",
     "text": [
      "b'C:\\\\Users\\\\Arfan Shah\\\\Train\\\\Potato___Healthy\\\\bde33d08-678c-4f84-b80e-fcb986a9a446___RS_HL 5415_newPixel25.JPG'\n",
      "b'C:\\\\Users\\\\Arfan Shah\\\\Train\\\\Potato___Early_blight\\\\4be99b40-e269-4c69-8c90-ac75514650af___RS_Early.B 6830.JPG'\n",
      "b'C:\\\\Users\\\\Arfan Shah\\\\Train\\\\Potato___Healthy\\\\d1752ed4-a0a7-4075-917d-205c0e785dcf___RS_HL 1911_flipLR.JPG'\n"
     ]
    }
   ],
   "source": [
    "# find labels in train dataset\n",
    "for i in train_dataset.take(3):\n",
    "    print(i.numpy())"
   ]
  },
  {
   "cell_type": "code",
   "execution_count": 25,
   "id": "12148729-3353-428c-9ca5-9cecee1415fb",
   "metadata": {},
   "outputs": [],
   "source": [
    "# function to find label path\n",
    "\n",
    "def get_label(file):\n",
    "    return tf.strings.split(file, os.path.sep)[-2]"
   ]
  },
  {
   "cell_type": "code",
   "execution_count": 26,
   "id": "fe08bfa3-a2c2-4515-8f4f-d376b32ded42",
   "metadata": {},
   "outputs": [],
   "source": [
    "# function to find both x and y parts\n",
    "def process_dataset(file):\n",
    "    label = get_label(file)\n",
    "    image = tf.io.read_file(file)\n",
    "\n",
    "    # decode jpeg image\n",
    "    image = tf.image.decode_jpeg(image)\n",
    "\n",
    "    # resize images\n",
    "    image = tf.image.resize(image, [256, 256])\n",
    "    return image, label"
   ]
  },
  {
   "cell_type": "code",
   "execution_count": 27,
   "id": "b1ec2908-7aff-437d-b7df-c7f440359a3b",
   "metadata": {},
   "outputs": [
    {
     "name": "stdout",
     "output_type": "stream",
     "text": [
      "Image:  tf.Tensor(\n",
      "[[[  9.   0.   1.]\n",
      "  [169. 157. 161.]\n",
      "  [167. 155. 159.]\n",
      "  ...\n",
      "  [199. 188. 196.]\n",
      "  [193. 182. 190.]\n",
      "  [191. 180. 188.]]\n",
      "\n",
      " [[  8.   0.   0.]\n",
      "  [139. 127. 131.]\n",
      "  [173. 161. 165.]\n",
      "  ...\n",
      "  [192. 181. 189.]\n",
      "  [186. 175. 183.]\n",
      "  [185. 174. 182.]]\n",
      "\n",
      " [[  8.   0.   0.]\n",
      "  [167. 155. 159.]\n",
      "  [192. 180. 184.]\n",
      "  ...\n",
      "  [194. 183. 191.]\n",
      "  [188. 177. 185.]\n",
      "  [189. 178. 186.]]\n",
      "\n",
      " ...\n",
      "\n",
      " [[ 18.   8.   7.]\n",
      "  [138. 128. 127.]\n",
      "  [153. 141. 141.]\n",
      "  ...\n",
      "  [204. 191. 198.]\n",
      "  [212. 199. 206.]\n",
      "  [188. 175. 182.]]\n",
      "\n",
      " [[  9.   0.   0.]\n",
      "  [143. 133. 132.]\n",
      "  [179. 167. 167.]\n",
      "  ...\n",
      "  [160. 147. 154.]\n",
      "  [192. 179. 186.]\n",
      "  [193. 180. 187.]]\n",
      "\n",
      " [[ 10.   0.   0.]\n",
      "  [134. 124. 123.]\n",
      "  [152. 140. 140.]\n",
      "  ...\n",
      "  [198. 185. 192.]\n",
      "  [197. 184. 191.]\n",
      "  [182. 169. 176.]]], shape=(256, 256, 3), dtype=float32)\n",
      "Label:  tf.Tensor(b'Potato___Healthy', shape=(), dtype=string)\n"
     ]
    }
   ],
   "source": [
    "# now find label for whole training dataset\n",
    "train_dataset = train_dataset.map(process_dataset)\n",
    "for image, label in train_dataset.take(1):\n",
    "    print(\"Image: \", image)\n",
    "    print(\"Label: \", label)"
   ]
  },
  {
   "cell_type": "code",
   "execution_count": 28,
   "id": "eabab707-b0d8-429b-a298-57dd719386f3",
   "metadata": {},
   "outputs": [],
   "source": [
    "# now scale the image data\n",
    "def scale(image, label):\n",
    "    return image/255, label"
   ]
  },
  {
   "cell_type": "code",
   "execution_count": 29,
   "id": "888da09f-f2dc-492c-8f2d-3b4badd78964",
   "metadata": {},
   "outputs": [],
   "source": [
    "train_dataset = train_dataset.map(scale)"
   ]
  },
  {
   "cell_type": "code",
   "execution_count": 32,
   "id": "9e6e1e9d-c7ab-4e25-9cdc-b4a3e7e341ce",
   "metadata": {},
   "outputs": [
    {
     "name": "stdout",
     "output_type": "stream",
     "text": [
      "Image:  [[0.40784314 0.39215687 0.44705883]\n",
      " [0.48235294 0.46666667 0.52156866]\n",
      " [0.5882353  0.57254905 0.627451  ]\n",
      " [0.5058824  0.49019608 0.54509807]\n",
      " [0.4862745  0.47058824 0.5254902 ]\n",
      " [0.41960785 0.40392157 0.45882353]\n",
      " [0.49803922 0.48235294 0.5372549 ]\n",
      " [0.52156866 0.5058824  0.56078434]\n",
      " [0.4627451  0.44705883 0.5019608 ]\n",
      " [0.47058824 0.45490196 0.50980395]\n",
      " [0.47843137 0.4627451  0.5176471 ]\n",
      " [0.47843137 0.4627451  0.5176471 ]\n",
      " [0.4745098  0.45882353 0.5137255 ]\n",
      " [0.46666667 0.4509804  0.5058824 ]\n",
      " [0.46666667 0.4509804  0.5058824 ]\n",
      " [0.47058824 0.45490196 0.50980395]\n",
      " [0.49019608 0.4745098  0.5294118 ]\n",
      " [0.47058824 0.45490196 0.50980395]\n",
      " [0.53333336 0.5176471  0.57254905]\n",
      " [0.40784314 0.39215687 0.44705883]\n",
      " [0.47058824 0.45490196 0.50980395]\n",
      " [0.4745098  0.45882353 0.5137255 ]\n",
      " [0.4392157  0.42352942 0.47843137]\n",
      " [0.45882353 0.44313726 0.49803922]\n",
      " [0.4627451  0.44705883 0.5019608 ]\n",
      " [0.4627451  0.44705883 0.5019608 ]\n",
      " [0.47058824 0.45490196 0.50980395]\n",
      " [0.4862745  0.47058824 0.5254902 ]\n",
      " [0.5019608  0.4862745  0.5411765 ]\n",
      " [0.5058824  0.49019608 0.54509807]\n",
      " [0.49803922 0.48235294 0.5372549 ]\n",
      " [0.49019608 0.4745098  0.5294118 ]\n",
      " [0.5411765  0.5294118  0.57254905]\n",
      " [0.4509804  0.4392157  0.48235294]\n",
      " [0.41960785 0.40784314 0.4509804 ]\n",
      " [0.4745098  0.4627451  0.5058824 ]\n",
      " [0.4862745  0.4745098  0.5176471 ]\n",
      " [0.4509804  0.4392157  0.48235294]\n",
      " [0.47843137 0.46666667 0.50980395]\n",
      " [0.5568628  0.54509807 0.5882353 ]\n",
      " [0.44705883 0.43529412 0.47843137]\n",
      " [0.45490196 0.44313726 0.4862745 ]\n",
      " [0.4627451  0.4509804  0.49411765]\n",
      " [0.45882353 0.44705883 0.49019608]\n",
      " [0.4509804  0.4392157  0.48235294]\n",
      " [0.4509804  0.4392157  0.48235294]\n",
      " [0.46666667 0.45490196 0.49803922]\n",
      " [0.47843137 0.46666667 0.50980395]\n",
      " [0.44705883 0.43529412 0.47843137]\n",
      " [0.44705883 0.43529412 0.47843137]\n",
      " [0.45490196 0.44313726 0.4862745 ]\n",
      " [0.46666667 0.45490196 0.49803922]\n",
      " [0.49019608 0.47843137 0.52156866]\n",
      " [0.49411765 0.48235294 0.5254902 ]\n",
      " [0.47058824 0.45882353 0.5019608 ]\n",
      " [0.4392157  0.42745098 0.47058824]\n",
      " [0.45882353 0.44705883 0.49019608]\n",
      " [0.5058824  0.49411765 0.5372549 ]\n",
      " [0.4862745  0.4745098  0.5176471 ]\n",
      " [0.43529412 0.42352942 0.46666667]\n",
      " [0.52156866 0.50980395 0.5529412 ]\n",
      " [0.47843137 0.46666667 0.50980395]\n",
      " [0.52156866 0.50980395 0.5529412 ]\n",
      " [0.45882353 0.44705883 0.49019608]\n",
      " [0.4392157  0.42745098 0.47058824]\n",
      " [0.4627451  0.4509804  0.49411765]\n",
      " [0.45882353 0.44705883 0.49019608]\n",
      " [0.43137255 0.41960785 0.4627451 ]\n",
      " [0.43529412 0.42352942 0.46666667]\n",
      " [0.4745098  0.4627451  0.5058824 ]\n",
      " [0.4862745  0.4745098  0.5176471 ]\n",
      " [0.4627451  0.4509804  0.49411765]\n",
      " [0.52156866 0.50980395 0.5529412 ]\n",
      " [0.5058824  0.49411765 0.5372549 ]\n",
      " [0.5058824  0.49411765 0.5372549 ]\n",
      " [0.4117647  0.4        0.44313726]\n",
      " [0.47058824 0.45882353 0.5019608 ]\n",
      " [0.4627451  0.4509804  0.49411765]\n",
      " [0.47843137 0.46666667 0.50980395]\n",
      " [0.4        0.3882353  0.43137255]\n",
      " [0.47058824 0.45882353 0.5019608 ]\n",
      " [0.4509804  0.4392157  0.48235294]\n",
      " [0.45490196 0.44313726 0.4862745 ]\n",
      " [0.4862745  0.4745098  0.5176471 ]\n",
      " [0.5019608  0.49019608 0.53333336]\n",
      " [0.49019608 0.47843137 0.52156866]\n",
      " [0.48235294 0.47058824 0.5137255 ]\n",
      " [0.4862745  0.4745098  0.5176471 ]\n",
      " [0.48235294 0.47058824 0.5137255 ]\n",
      " [0.45490196 0.44313726 0.4862745 ]\n",
      " [0.4745098  0.4627451  0.5058824 ]\n",
      " [0.49411765 0.48235294 0.5254902 ]\n",
      " [0.47058824 0.45882353 0.5019608 ]\n",
      " [0.4745098  0.4627451  0.5058824 ]\n",
      " [0.5058824  0.49411765 0.5372549 ]\n",
      " [0.50980395 0.49803922 0.5411765 ]\n",
      " [0.4392157  0.42745098 0.47058824]\n",
      " [0.45882353 0.44705883 0.49019608]\n",
      " [0.43529412 0.42352942 0.46666667]\n",
      " [0.49411765 0.48235294 0.5254902 ]\n",
      " [0.4392157  0.42745098 0.47058824]\n",
      " [0.4745098  0.4627451  0.5058824 ]\n",
      " [0.44705883 0.43529412 0.47843137]\n",
      " [0.49019608 0.47843137 0.52156866]\n",
      " [0.46666667 0.45490196 0.49803922]\n",
      " [0.49019608 0.47843137 0.52156866]\n",
      " [0.49803922 0.4862745  0.5294118 ]\n",
      " [0.49019608 0.47843137 0.52156866]\n",
      " [0.48235294 0.47058824 0.5137255 ]\n",
      " [0.49019608 0.47843137 0.52156866]\n",
      " [0.4862745  0.4745098  0.5176471 ]\n",
      " [0.4745098  0.4627451  0.5058824 ]\n",
      " [0.4627451  0.42745098 0.49411765]\n",
      " [0.47058824 0.43529412 0.5019608 ]\n",
      " [0.4745098  0.44705883 0.50980395]\n",
      " [0.47843137 0.4509804  0.5137255 ]\n",
      " [0.46666667 0.4509804  0.50980395]\n",
      " [0.4509804  0.43529412 0.49411765]\n",
      " [0.43529412 0.42745098 0.48235294]\n",
      " [0.42745098 0.41960785 0.4745098 ]\n",
      " [0.4627451  0.45882353 0.5137255 ]\n",
      " [0.40392157 0.4        0.45490196]\n",
      " [0.4        0.39607844 0.4509804 ]\n",
      " [0.4509804  0.44705883 0.5019608 ]\n",
      " [0.4627451  0.45490196 0.50980395]\n",
      " [0.41960785 0.4117647  0.46666667]\n",
      " [0.41960785 0.4117647  0.46666667]\n",
      " [0.4745098  0.45882353 0.5176471 ]\n",
      " [0.41568628 0.38431373 0.46666667]\n",
      " [0.42745098 0.39215687 0.46666667]\n",
      " [0.43137255 0.40392157 0.4745098 ]\n",
      " [0.43529412 0.40784314 0.47058824]\n",
      " [0.42352942 0.40784314 0.4627451 ]\n",
      " [0.41568628 0.40392157 0.44705883]\n",
      " [0.40784314 0.4        0.44313726]\n",
      " [0.40784314 0.40392157 0.43529412]\n",
      " [0.43529412 0.43137255 0.45490196]\n",
      " [0.44313726 0.4392157  0.4627451 ]\n",
      " [0.45882353 0.44705883 0.48235294]\n",
      " [0.45490196 0.44313726 0.47843137]\n",
      " [0.44705883 0.41568628 0.46666667]\n",
      " [0.43137255 0.4        0.4509804 ]\n",
      " [0.45882353 0.41568628 0.47843137]\n",
      " [0.49019608 0.45882353 0.50980395]\n",
      " [0.47843137 0.45490196 0.49411765]\n",
      " [0.44313726 0.43137255 0.45882353]\n",
      " [0.41960785 0.40784314 0.43529412]\n",
      " [0.41960785 0.40784314 0.43529412]\n",
      " [0.44705883 0.43529412 0.4627451 ]\n",
      " [0.4745098  0.4627451  0.49019608]\n",
      " [0.47843137 0.46666667 0.49411765]\n",
      " [0.47058824 0.45882353 0.4862745 ]\n",
      " [0.44313726 0.43137255 0.45882353]\n",
      " [0.43529412 0.42352942 0.4509804 ]\n",
      " [0.43137255 0.41960785 0.44705883]\n",
      " [0.42745098 0.41568628 0.44313726]\n",
      " [0.41568628 0.40392157 0.43137255]\n",
      " [0.41960785 0.40784314 0.43529412]\n",
      " [0.44313726 0.43137255 0.45882353]\n",
      " [0.47843137 0.46666667 0.49411765]\n",
      " [0.44705883 0.43529412 0.47058824]\n",
      " [0.4627451  0.4509804  0.4862745 ]\n",
      " [0.45490196 0.44313726 0.47843137]\n",
      " [0.43529412 0.42352942 0.45882353]\n",
      " [0.43529412 0.42352942 0.45882353]\n",
      " [0.45490196 0.44313726 0.47843137]\n",
      " [0.45490196 0.44313726 0.47843137]\n",
      " [0.4392157  0.42745098 0.4627451 ]\n",
      " [0.45882353 0.44705883 0.48235294]\n",
      " [0.44313726 0.43137255 0.46666667]\n",
      " [0.4509804  0.4392157  0.4745098 ]\n",
      " [0.4627451  0.4509804  0.4862745 ]\n",
      " [0.44705883 0.43529412 0.47058824]\n",
      " [0.42352942 0.4117647  0.44705883]\n",
      " [0.45490196 0.44313726 0.47843137]\n",
      " [0.5058824  0.49411765 0.5294118 ]\n",
      " [0.4745098  0.4509804  0.49019608]\n",
      " [0.43529412 0.4117647  0.4509804 ]\n",
      " [0.47058824 0.44705883 0.4862745 ]\n",
      " [0.5647059  0.5411765  0.5803922 ]\n",
      " [0.45882353 0.43529412 0.4745098 ]\n",
      " [0.52156866 0.49803922 0.5372549 ]\n",
      " [0.5254902  0.5019608  0.5411765 ]\n",
      " [0.4745098  0.4509804  0.49019608]\n",
      " [0.5058824  0.48235294 0.52156866]\n",
      " [0.44313726 0.41960785 0.45882353]\n",
      " [0.4745098  0.4509804  0.49019608]\n",
      " [0.52156866 0.49803922 0.5372549 ]\n",
      " [0.49411765 0.47058824 0.50980395]\n",
      " [0.49411765 0.47058824 0.50980395]\n",
      " [0.49411765 0.47058824 0.50980395]\n",
      " [0.43137255 0.40784314 0.44705883]\n",
      " [0.5254902  0.5019608  0.5411765 ]\n",
      " [0.49411765 0.47058824 0.50980395]\n",
      " [0.48235294 0.45882353 0.49803922]\n",
      " [0.49411765 0.47058824 0.50980395]\n",
      " [0.5019608  0.47843137 0.5176471 ]\n",
      " [0.4745098  0.4509804  0.49019608]\n",
      " [0.44705883 0.42352942 0.4627451 ]\n",
      " [0.43137255 0.40784314 0.44705883]\n",
      " [0.47058824 0.44705883 0.4862745 ]\n",
      " [0.4745098  0.4509804  0.49019608]\n",
      " [0.5254902  0.5019608  0.5411765 ]\n",
      " [0.4745098  0.4509804  0.49019608]\n",
      " [0.52156866 0.49803922 0.5372549 ]\n",
      " [0.4745098  0.4509804  0.49019608]\n",
      " [0.5019608  0.47843137 0.5176471 ]\n",
      " [0.46666667 0.44313726 0.48235294]\n",
      " [0.49019608 0.4745098  0.5294118 ]\n",
      " [0.5058824  0.49019608 0.54509807]\n",
      " [0.4745098  0.45882353 0.5137255 ]\n",
      " [0.43529412 0.41960785 0.4745098 ]\n",
      " [0.43529412 0.41960785 0.4745098 ]\n",
      " [0.41960785 0.40392157 0.45882353]\n",
      " [0.41960785 0.40392157 0.45882353]\n",
      " [0.45490196 0.4392157  0.49411765]\n",
      " [0.44313726 0.42745098 0.48235294]\n",
      " [0.5529412  0.5372549  0.5921569 ]\n",
      " [0.5294118  0.5137255  0.5686275 ]\n",
      " [0.5254902  0.50980395 0.5647059 ]\n",
      " [0.49019608 0.4745098  0.5294118 ]\n",
      " [0.47843137 0.4627451  0.5176471 ]\n",
      " [0.56078434 0.54509807 0.6       ]\n",
      " [0.5254902  0.5137255  0.5568628 ]\n",
      " [0.6        0.5882353  0.6313726 ]\n",
      " [0.49019608 0.47843137 0.5137255 ]\n",
      " [0.4392157  0.42745098 0.4627451 ]\n",
      " [0.4627451  0.4509804  0.4862745 ]\n",
      " [0.4745098  0.4627451  0.49803922]\n",
      " [0.4745098  0.4627451  0.49803922]\n",
      " [0.4627451  0.4509804  0.4862745 ]\n",
      " [0.43137255 0.41960785 0.45490196]\n",
      " [0.53333336 0.52156866 0.5568628 ]\n",
      " [0.49019608 0.47843137 0.5137255 ]\n",
      " [0.47058824 0.45882353 0.49411765]\n",
      " [0.49019608 0.47843137 0.5137255 ]\n",
      " [0.5058824  0.49411765 0.5294118 ]\n",
      " [0.49411765 0.48235294 0.5176471 ]\n",
      " [0.47843137 0.46666667 0.5019608 ]\n",
      " [0.4745098  0.4627451  0.49803922]\n",
      " [0.5058824  0.49411765 0.5294118 ]\n",
      " [0.49803922 0.4862745  0.52156866]\n",
      " [0.46666667 0.45490196 0.49019608]\n",
      " [0.47058824 0.45882353 0.49411765]\n",
      " [0.5176471  0.5058824  0.5411765 ]\n",
      " [0.5294118  0.5176471  0.5529412 ]\n",
      " [0.5254902  0.5137255  0.54901963]\n",
      " [0.54509807 0.53333336 0.5686275 ]\n",
      " [0.4392157  0.42745098 0.4627451 ]\n",
      " [0.5254902  0.5137255  0.54901963]\n",
      " [0.54901963 0.5372549  0.57254905]\n",
      " [0.5058824  0.49411765 0.5294118 ]\n",
      " [0.45882353 0.44705883 0.48235294]\n",
      " [0.42352942 0.4117647  0.44705883]\n",
      " [0.44705883 0.43529412 0.47058824]\n",
      " [0.5176471  0.5058824  0.5411765 ]]\n",
      "Label:  b'Potato___Late_blight'\n"
     ]
    }
   ],
   "source": [
    "for image, label in train_dataset.take(1):\n",
    "    print(\"Image: \", image.numpy()[0])\n",
    "    print(\"Label: \", label.numpy())"
   ]
  },
  {
   "cell_type": "code",
   "execution_count": null,
   "id": "2d6eada7-e2ba-4d6e-8a29-10fa4ed600c4",
   "metadata": {},
   "outputs": [],
   "source": []
  }
 ],
 "metadata": {
  "kernelspec": {
   "display_name": "Python 3 (ipykernel)",
   "language": "python",
   "name": "python3"
  },
  "language_info": {
   "codemirror_mode": {
    "name": "ipython",
    "version": 3
   },
   "file_extension": ".py",
   "mimetype": "text/x-python",
   "name": "python",
   "nbconvert_exporter": "python",
   "pygments_lexer": "ipython3",
   "version": "3.11.7"
  }
 },
 "nbformat": 4,
 "nbformat_minor": 5
}
