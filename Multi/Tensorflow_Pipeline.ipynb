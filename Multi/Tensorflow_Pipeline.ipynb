{
 "cells": [
  {
   "cell_type": "code",
   "execution_count": 2,
   "id": "a6122092-df66-4cc4-832c-718757abf3cb",
   "metadata": {},
   "outputs": [],
   "source": [
    "# import required libraries\n",
    "import tensorflow as tf"
   ]
  },
  {
   "cell_type": "code",
   "execution_count": 17,
   "id": "9f1d2006-8c00-4ba9-a8ce-4df6bcf78d37",
   "metadata": {},
   "outputs": [],
   "source": [
    "# declare a list of random values\n",
    "daily_sales = [23, 45, 11, -1, -34, 0, 12, 33]"
   ]
  },
  {
   "cell_type": "code",
   "execution_count": 18,
   "id": "c93ba3eb-fa2a-4095-9c1d-af4f590973b2",
   "metadata": {},
   "outputs": [],
   "source": [
    "# make a pipeline using tensorflow\n",
    "dataset = tf.data.Dataset.from_tensor_slices(daily_sales)"
   ]
  },
  {
   "cell_type": "code",
   "execution_count": 19,
   "id": "1563b902-8b4b-4ef5-9415-524393d09cb9",
   "metadata": {},
   "outputs": [
    {
     "data": {
      "text/plain": [
       "<_TensorSliceDataset element_spec=TensorSpec(shape=(), dtype=tf.int32, name=None)>"
      ]
     },
     "execution_count": 19,
     "metadata": {},
     "output_type": "execute_result"
    }
   ],
   "source": [
    "dataset"
   ]
  },
  {
   "cell_type": "code",
   "execution_count": 20,
   "id": "3d98bfb7-8e92-4367-b35c-cada3df18af4",
   "metadata": {},
   "outputs": [
    {
     "name": "stdout",
     "output_type": "stream",
     "text": [
      "23\n",
      "45\n",
      "11\n",
      "-1\n",
      "-34\n",
      "0\n",
      "12\n",
      "33\n"
     ]
    }
   ],
   "source": [
    "# iterate through dataset and show elements\n",
    "for element in dataset:\n",
    "    print(element.numpy())"
   ]
  },
  {
   "cell_type": "code",
   "execution_count": 21,
   "id": "9cdc079e-84ba-4e78-8d9d-1d943a09ec70",
   "metadata": {},
   "outputs": [
    {
     "name": "stdout",
     "output_type": "stream",
     "text": [
      "23\n",
      "45\n",
      "11\n"
     ]
    }
   ],
   "source": [
    "# if want to show selected no of elements\n",
    "for i in dataset.take(3):\n",
    "    print(i.numpy())"
   ]
  },
  {
   "cell_type": "code",
   "execution_count": 22,
   "id": "2f547715-197b-4a89-bf53-f43caea690bb",
   "metadata": {},
   "outputs": [],
   "source": [
    "# now remove negative values from dataset\n",
    "dataset = dataset.filter(lambda x: x >= 0)"
   ]
  },
  {
   "cell_type": "code",
   "execution_count": 23,
   "id": "bc845f8d-b192-4b15-92ad-852c58d78532",
   "metadata": {},
   "outputs": [
    {
     "name": "stdout",
     "output_type": "stream",
     "text": [
      "23\n",
      "45\n",
      "11\n",
      "0\n",
      "12\n",
      "33\n"
     ]
    }
   ],
   "source": [
    "# iterate again and check\n",
    "for j in dataset.as_numpy_iterator():\n",
    "    print(j)"
   ]
  },
  {
   "cell_type": "code",
   "execution_count": 24,
   "id": "2670c1b1-0278-416c-9f7c-fd326699b1df",
   "metadata": {},
   "outputs": [],
   "source": [
    "# convert above data to pkr as it is in usd\n",
    "dataset = dataset.map(lambda y: y*279)"
   ]
  },
  {
   "cell_type": "code",
   "execution_count": 25,
   "id": "3563620f-64b7-488a-a028-715b52e3c1fc",
   "metadata": {},
   "outputs": [
    {
     "name": "stdout",
     "output_type": "stream",
     "text": [
      "6417\n",
      "12555\n",
      "3069\n",
      "0\n",
      "3348\n",
      "9207\n"
     ]
    }
   ],
   "source": [
    "for k in dataset.as_numpy_iterator():\n",
    "    print(k)"
   ]
  },
  {
   "cell_type": "code",
   "execution_count": 28,
   "id": "0c3a7064-96d1-4fa0-a5f0-f7ba2611a633",
   "metadata": {},
   "outputs": [
    {
     "name": "stdout",
     "output_type": "stream",
     "text": [
      "0\n",
      "9207\n",
      "3348\n",
      "6417\n",
      "12555\n",
      "3069\n"
     ]
    }
   ],
   "source": [
    "# shuffle data elements\n",
    "dataset = dataset.shuffle(2)\n",
    "\n",
    "for m in dataset.as_numpy_iterator():\n",
    "    print(m)"
   ]
  },
  {
   "cell_type": "code",
   "execution_count": 31,
   "id": "a7f9792d-c694-449b-841d-94269922bc55",
   "metadata": {},
   "outputs": [
    {
     "name": "stdout",
     "output_type": "stream",
     "text": [
      "[3069 6417 3348]\n",
      "[ 9207     0 12555]\n"
     ]
    }
   ],
   "source": [
    "# we can create batches \n",
    "\n",
    "for j in dataset.batch(3):\n",
    "    print(j.numpy())"
   ]
  },
  {
   "cell_type": "code",
   "execution_count": 36,
   "id": "5fb01ffb-fec2-426b-8d22-e52b5c3a8466",
   "metadata": {},
   "outputs": [],
   "source": [
    "# combine all the above operations in just one line and make a pipeline\n",
    "dataset_pipe = tf.data.Dataset.from_tensor_slices(daily_sales)\n",
    "dataset_pipe = dataset_pipe.filter(lambda x: x >= 0).map(lambda y: y*279).shuffle(2).batch(3)"
   ]
  },
  {
   "cell_type": "code",
   "execution_count": 37,
   "id": "71b7f963-6ae4-44f1-a221-2fe277e2009d",
   "metadata": {},
   "outputs": [
    {
     "data": {
      "text/plain": [
       "<_BatchDataset element_spec=TensorSpec(shape=(None,), dtype=tf.int32, name=None)>"
      ]
     },
     "execution_count": 37,
     "metadata": {},
     "output_type": "execute_result"
    }
   ],
   "source": [
    "dataset_pipe"
   ]
  },
  {
   "cell_type": "code",
   "execution_count": 38,
   "id": "a631d077-6d9d-43ab-96b0-bb16b4901446",
   "metadata": {},
   "outputs": [
    {
     "name": "stdout",
     "output_type": "stream",
     "text": [
      "[ 6417  3069 12555]\n",
      "[   0 9207 3348]\n"
     ]
    }
   ],
   "source": [
    "for i in dataset_pipe:\n",
    "    print(i.numpy())"
   ]
  },
  {
   "cell_type": "code",
   "execution_count": null,
   "id": "ece139d5-4573-40f9-9163-74c9dec10351",
   "metadata": {},
   "outputs": [],
   "source": []
  }
 ],
 "metadata": {
  "kernelspec": {
   "display_name": "Python 3 (ipykernel)",
   "language": "python",
   "name": "python3"
  },
  "language_info": {
   "codemirror_mode": {
    "name": "ipython",
    "version": 3
   },
   "file_extension": ".py",
   "mimetype": "text/x-python",
   "name": "python",
   "nbconvert_exporter": "python",
   "pygments_lexer": "ipython3",
   "version": "3.11.7"
  }
 },
 "nbformat": 4,
 "nbformat_minor": 5
}
