{
 "cells": [
  {
   "cell_type": "code",
   "execution_count": 80,
   "id": "a6122092-df66-4cc4-832c-718757abf3cb",
   "metadata": {},
   "outputs": [],
   "source": [
    "# import required libraries\n",
    "import tensorflow as tf\n",
    "import matplotlib.pyplot as plt\n",
    "import os"
   ]
  },
  {
   "cell_type": "code",
   "execution_count": 17,
   "id": "9f1d2006-8c00-4ba9-a8ce-4df6bcf78d37",
   "metadata": {},
   "outputs": [],
   "source": [
    "# declare a list of random values\n",
    "daily_sales = [23, 45, 11, -1, -34, 0, 12, 33]"
   ]
  },
  {
   "cell_type": "code",
   "execution_count": 18,
   "id": "c93ba3eb-fa2a-4095-9c1d-af4f590973b2",
   "metadata": {},
   "outputs": [],
   "source": [
    "# make a pipeline using tensorflow\n",
    "dataset = tf.data.Dataset.from_tensor_slices(daily_sales)"
   ]
  },
  {
   "cell_type": "code",
   "execution_count": 19,
   "id": "1563b902-8b4b-4ef5-9415-524393d09cb9",
   "metadata": {},
   "outputs": [
    {
     "data": {
      "text/plain": [
       "<_TensorSliceDataset element_spec=TensorSpec(shape=(), dtype=tf.int32, name=None)>"
      ]
     },
     "execution_count": 19,
     "metadata": {},
     "output_type": "execute_result"
    }
   ],
   "source": [
    "dataset"
   ]
  },
  {
   "cell_type": "code",
   "execution_count": 20,
   "id": "3d98bfb7-8e92-4367-b35c-cada3df18af4",
   "metadata": {},
   "outputs": [
    {
     "name": "stdout",
     "output_type": "stream",
     "text": [
      "23\n",
      "45\n",
      "11\n",
      "-1\n",
      "-34\n",
      "0\n",
      "12\n",
      "33\n"
     ]
    }
   ],
   "source": [
    "# iterate through dataset and show elements\n",
    "for element in dataset:\n",
    "    print(element.numpy())"
   ]
  },
  {
   "cell_type": "code",
   "execution_count": 21,
   "id": "9cdc079e-84ba-4e78-8d9d-1d943a09ec70",
   "metadata": {},
   "outputs": [
    {
     "name": "stdout",
     "output_type": "stream",
     "text": [
      "23\n",
      "45\n",
      "11\n"
     ]
    }
   ],
   "source": [
    "# if want to show selected no of elements\n",
    "for i in dataset.take(3):\n",
    "    print(i.numpy())"
   ]
  },
  {
   "cell_type": "code",
   "execution_count": 22,
   "id": "2f547715-197b-4a89-bf53-f43caea690bb",
   "metadata": {},
   "outputs": [],
   "source": [
    "# now remove negative values from dataset\n",
    "dataset = dataset.filter(lambda x: x >= 0)"
   ]
  },
  {
   "cell_type": "code",
   "execution_count": 23,
   "id": "bc845f8d-b192-4b15-92ad-852c58d78532",
   "metadata": {},
   "outputs": [
    {
     "name": "stdout",
     "output_type": "stream",
     "text": [
      "23\n",
      "45\n",
      "11\n",
      "0\n",
      "12\n",
      "33\n"
     ]
    }
   ],
   "source": [
    "# iterate again and check\n",
    "for j in dataset.as_numpy_iterator():\n",
    "    print(j)"
   ]
  },
  {
   "cell_type": "code",
   "execution_count": 24,
   "id": "2670c1b1-0278-416c-9f7c-fd326699b1df",
   "metadata": {},
   "outputs": [],
   "source": [
    "# convert above data to pkr as it is in usd\n",
    "dataset = dataset.map(lambda y: y*279)"
   ]
  },
  {
   "cell_type": "code",
   "execution_count": 25,
   "id": "3563620f-64b7-488a-a028-715b52e3c1fc",
   "metadata": {},
   "outputs": [
    {
     "name": "stdout",
     "output_type": "stream",
     "text": [
      "6417\n",
      "12555\n",
      "3069\n",
      "0\n",
      "3348\n",
      "9207\n"
     ]
    }
   ],
   "source": [
    "for k in dataset.as_numpy_iterator():\n",
    "    print(k)"
   ]
  },
  {
   "cell_type": "code",
   "execution_count": 28,
   "id": "0c3a7064-96d1-4fa0-a5f0-f7ba2611a633",
   "metadata": {},
   "outputs": [
    {
     "name": "stdout",
     "output_type": "stream",
     "text": [
      "0\n",
      "9207\n",
      "3348\n",
      "6417\n",
      "12555\n",
      "3069\n"
     ]
    }
   ],
   "source": [
    "# shuffle data elements\n",
    "dataset = dataset.shuffle(2)\n",
    "\n",
    "for m in dataset.as_numpy_iterator():\n",
    "    print(m)"
   ]
  },
  {
   "cell_type": "code",
   "execution_count": 31,
   "id": "a7f9792d-c694-449b-841d-94269922bc55",
   "metadata": {},
   "outputs": [
    {
     "name": "stdout",
     "output_type": "stream",
     "text": [
      "[3069 6417 3348]\n",
      "[ 9207     0 12555]\n"
     ]
    }
   ],
   "source": [
    "# we can create batches \n",
    "\n",
    "for j in dataset.batch(3):\n",
    "    print(j.numpy())"
   ]
  },
  {
   "cell_type": "code",
   "execution_count": 36,
   "id": "5fb01ffb-fec2-426b-8d22-e52b5c3a8466",
   "metadata": {},
   "outputs": [],
   "source": [
    "# combine all the above operations in just one line and make a pipeline\n",
    "dataset_pipe = tf.data.Dataset.from_tensor_slices(daily_sales)\n",
    "dataset_pipe = dataset_pipe.filter(lambda x: x >= 0).map(lambda y: y*279).shuffle(2).batch(3)"
   ]
  },
  {
   "cell_type": "code",
   "execution_count": 37,
   "id": "71b7f963-6ae4-44f1-a221-2fe277e2009d",
   "metadata": {},
   "outputs": [
    {
     "data": {
      "text/plain": [
       "<_BatchDataset element_spec=TensorSpec(shape=(None,), dtype=tf.int32, name=None)>"
      ]
     },
     "execution_count": 37,
     "metadata": {},
     "output_type": "execute_result"
    }
   ],
   "source": [
    "dataset_pipe"
   ]
  },
  {
   "cell_type": "code",
   "execution_count": 39,
   "id": "a631d077-6d9d-43ab-96b0-bb16b4901446",
   "metadata": {},
   "outputs": [
    {
     "name": "stdout",
     "output_type": "stream",
     "text": [
      "[ 6417 12555  3069]\n",
      "[3348 9207    0]\n"
     ]
    }
   ],
   "source": [
    "for i in dataset_pipe:\n",
    "    print(i.numpy())"
   ]
  },
  {
   "cell_type": "markdown",
   "id": "b8998df8-1987-4518-a0d0-e240e97204d3",
   "metadata": {},
   "source": [
    "# Pipeline To Read Image Files"
   ]
  },
  {
   "cell_type": "code",
   "execution_count": 110,
   "id": "1e78c43e-886e-4cc0-940b-664b9b5db1ea",
   "metadata": {},
   "outputs": [
    {
     "name": "stdout",
     "output_type": "stream",
     "text": [
      "b'C:\\\\Users\\\\Arfan Shah\\\\Train\\\\Potato___Late_blight\\\\0085ef03-aec3-431a-99a1-de286e10c0cf___RS_LB 2949.JPG'\n",
      "b'C:\\\\Users\\\\Arfan Shah\\\\Train\\\\Potato___Healthy\\\\762672f4-17e6-4fd6-84f1-3bcb091b3ca5___RS_HL 5417_newGRR.JPG'\n",
      "b'C:\\\\Users\\\\Arfan Shah\\\\Train\\\\Potato___Early_blight\\\\c9d5a9b6-4e5c-42df-8f9b-5f57e13000df___RS_Early.B 6933.JPG'\n",
      "b'C:\\\\Users\\\\Arfan Shah\\\\Train\\\\Potato___Early_blight\\\\cfd3112d-e376-4b82-bc06-de0bfba0ab41___RS_Early.B 8389_180deg.JPG'\n",
      "b'C:\\\\Users\\\\Arfan Shah\\\\Train\\\\Potato___Early_blight\\\\70b89c8b-2850-4ec8-8da1-a4b9de5351c7___RS_Early.B 6889_flipTB.JPG'\n"
     ]
    }
   ],
   "source": [
    "# read images from the directory\n",
    "images_dataset = tf.data.Dataset.list_files(r\"C:\\Users\\Arfan Shah\\Train\\*\\*\", shuffle = True)\n",
    "\n",
    "# for loop to iterate over directory and then read images\n",
    "for i in images_dataset.take(5):\n",
    "    print(i.numpy())"
   ]
  },
  {
   "cell_type": "code",
   "execution_count": 111,
   "id": "dfdc274b-774a-4d4f-890c-ff0ef4161a66",
   "metadata": {},
   "outputs": [],
   "source": [
    "# declare classes in directory\n",
    "num_classes = ['Early_blight', 'Healthy', 'Late_blight']"
   ]
  },
  {
   "cell_type": "code",
   "execution_count": 112,
   "id": "d51af771-2b5a-44a2-a6d0-815b00596616",
   "metadata": {},
   "outputs": [
    {
     "data": {
      "text/plain": [
       "5702"
      ]
     },
     "execution_count": 112,
     "metadata": {},
     "output_type": "execute_result"
    }
   ],
   "source": [
    "# number of images in directory\n",
    "image_count = len(images_dataset)\n",
    "image_count"
   ]
  },
  {
   "cell_type": "code",
   "execution_count": 113,
   "id": "d51178a0-4671-44ad-a600-cb2a51b04051",
   "metadata": {},
   "outputs": [
    {
     "data": {
      "text/plain": [
       "4561"
      ]
     },
     "execution_count": 113,
     "metadata": {},
     "output_type": "execute_result"
    }
   ],
   "source": [
    "# training size from the actual dataset\n",
    "train_size = int(image_count*0.8)\n",
    "train_size"
   ]
  },
  {
   "cell_type": "code",
   "execution_count": 114,
   "id": "b6539c79-09e3-43ed-bdea-5a834b694938",
   "metadata": {},
   "outputs": [],
   "source": [
    "# training dataset\n",
    "train_dataset = images_dataset.take(train_size)\n",
    "\n",
    "# test dataset\n",
    "test_dataset = images_dataset.skip(train_size)"
   ]
  },
  {
   "cell_type": "code",
   "execution_count": 115,
   "id": "fc4f86a3-db73-4f00-bdba-c82f3717b0f3",
   "metadata": {},
   "outputs": [
    {
     "name": "stdout",
     "output_type": "stream",
     "text": [
      "4561\n",
      "1141\n"
     ]
    }
   ],
   "source": [
    "# legth of training and testing dataset\n",
    "print(len(train_dataset))\n",
    "print(len(test_dataset))"
   ]
  },
  {
   "cell_type": "code",
   "execution_count": 116,
   "id": "23516252-2bb4-42a7-9bdf-31857f77acff",
   "metadata": {},
   "outputs": [
    {
     "data": {
      "text/plain": [
       "'Potato___Late_blight'"
      ]
     },
     "execution_count": 116,
     "metadata": {},
     "output_type": "execute_result"
    }
   ],
   "source": [
    "# file path\n",
    "string = 'C:\\\\Users\\\\Arfan Shah\\\\Train\\\\Potato___Late_blight\\\\d438f9b3-2952-425e-8c5f-a92a21b35f5f___RS_LB 4470_180deg.JPG'\n",
    "string.split('\\\\')[-2]"
   ]
  },
  {
   "cell_type": "code",
   "execution_count": 117,
   "id": "d1b4a6c8-84fa-47bd-b9ee-8713d7fac080",
   "metadata": {},
   "outputs": [
    {
     "name": "stdout",
     "output_type": "stream",
     "text": [
      "b'C:\\\\Users\\\\Arfan Shah\\\\Train\\\\Potato___Early_blight\\\\275c3337-11ee-487c-9093-bcd5e310c72c___RS_Early.B 7671_flipTB.JPG'\n",
      "b'C:\\\\Users\\\\Arfan Shah\\\\Train\\\\Potato___Early_blight\\\\cfd3112d-e376-4b82-bc06-de0bfba0ab41___RS_Early.B 8389_flipTB.JPG'\n",
      "b'C:\\\\Users\\\\Arfan Shah\\\\Train\\\\Potato___Early_blight\\\\c43a5fd7-c60c-4a04-9835-bd35b551ec44___RS_Early.B 6701_180deg.JPG'\n"
     ]
    }
   ],
   "source": [
    "# find labels in train dataset\n",
    "for i in train_dataset.take(3):\n",
    "    print(i.numpy())"
   ]
  },
  {
   "cell_type": "code",
   "execution_count": 118,
   "id": "12148729-3353-428c-9ca5-9cecee1415fb",
   "metadata": {},
   "outputs": [],
   "source": [
    "# function to find label path\n",
    "\n",
    "def get_label(file):\n",
    "    return tf.strings.split(file, os.path.sep)[-2]"
   ]
  },
  {
   "cell_type": "code",
   "execution_count": 120,
   "id": "fe08bfa3-a2c2-4515-8f4f-d376b32ded42",
   "metadata": {},
   "outputs": [],
   "source": [
    "# function to find both x and y parts\n",
    "def process_dataset(file):\n",
    "    label = get_label(file)\n",
    "    image = tf.io.read_file(file)\n",
    "\n",
    "    # decode jpeg image\n",
    "    image = tf.image.decode_jpeg(image)\n",
    "\n",
    "    # resize images\n",
    "    image = tf.image.resize(image, [256, 256])\n",
    "    return image, label"
   ]
  },
  {
   "cell_type": "code",
   "execution_count": 125,
   "id": "b1ec2908-7aff-437d-b7df-c7f440359a3b",
   "metadata": {},
   "outputs": [
    {
     "name": "stdout",
     "output_type": "stream",
     "text": [
      "Image:  tf.Tensor(\n",
      "[[[189. 193. 204.]\n",
      "  [201. 205. 216.]\n",
      "  [205. 209. 220.]\n",
      "  ...\n",
      "  [141. 143. 156.]\n",
      "  [157. 159. 172.]\n",
      "  [137. 139. 152.]]\n",
      "\n",
      " [[199. 203. 214.]\n",
      "  [198. 202. 213.]\n",
      "  [188. 192. 203.]\n",
      "  ...\n",
      "  [127. 129. 142.]\n",
      "  [142. 144. 157.]\n",
      "  [138. 140. 153.]]\n",
      "\n",
      " [[193. 197. 208.]\n",
      "  [188. 192. 203.]\n",
      "  [184. 188. 199.]\n",
      "  ...\n",
      "  [122. 124. 137.]\n",
      "  [133. 135. 148.]\n",
      "  [137. 139. 152.]]\n",
      "\n",
      " ...\n",
      "\n",
      " [[152. 154. 166.]\n",
      "  [149. 151. 163.]\n",
      "  [146. 148. 160.]\n",
      "  ...\n",
      "  [ 69.  71.  83.]\n",
      "  [102. 104. 116.]\n",
      "  [159. 161. 173.]]\n",
      "\n",
      " [[150. 152. 164.]\n",
      "  [146. 148. 160.]\n",
      "  [144. 146. 158.]\n",
      "  ...\n",
      "  [133. 135. 148.]\n",
      "  [129. 131. 144.]\n",
      "  [ 93.  95. 108.]]\n",
      "\n",
      " [[158. 160. 172.]\n",
      "  [154. 156. 168.]\n",
      "  [151. 153. 165.]\n",
      "  ...\n",
      "  [103. 105. 118.]\n",
      "  [105. 107. 120.]\n",
      "  [107. 109. 122.]]], shape=(256, 256, 3), dtype=float32)\n",
      "Label:  tf.Tensor(b'Potato___Early_blight', shape=(), dtype=string)\n"
     ]
    }
   ],
   "source": [
    "# now find label for whole training dataset\n",
    "train_dataset = train_dataset.map(process_dataset)\n",
    "for image, label in train_dataset.take(1):\n",
    "    print(\"Image: \", image)\n",
    "    print(\"Label: \", label)"
   ]
  },
  {
   "cell_type": "code",
   "execution_count": 126,
   "id": "eabab707-b0d8-429b-a298-57dd719386f3",
   "metadata": {},
   "outputs": [],
   "source": [
    "# now scale the image data\n",
    "def scale(image, label):\n",
    "    return image/255, label"
   ]
  },
  {
   "cell_type": "code",
   "execution_count": 127,
   "id": "888da09f-f2dc-492c-8f2d-3b4badd78964",
   "metadata": {},
   "outputs": [],
   "source": [
    "train_dataset = train_dataset.map(scale)"
   ]
  },
  {
   "cell_type": "code",
   "execution_count": 128,
   "id": "9e6e1e9d-c7ab-4e25-9cdc-b4a3e7e341ce",
   "metadata": {},
   "outputs": [
    {
     "name": "stdout",
     "output_type": "stream",
     "text": [
      "Image:  [0.69803923 0.6862745  0.7137255 ]\n",
      "Label:  b'Potato___Late_blight'\n",
      "Image:  [0.49803922 0.48235294 0.5411765 ]\n",
      "Label:  b'Potato___Early_blight'\n"
     ]
    }
   ],
   "source": [
    "for image, label in train_dataset.take(2):\n",
    "    print(\"Image: \", image.numpy()[0][0])\n",
    "    print(\"Label: \", label.numpy())"
   ]
  },
  {
   "cell_type": "code",
   "execution_count": null,
   "id": "2d6eada7-e2ba-4d6e-8a29-10fa4ed600c4",
   "metadata": {},
   "outputs": [],
   "source": []
  }
 ],
 "metadata": {
  "kernelspec": {
   "display_name": "Python 3 (ipykernel)",
   "language": "python",
   "name": "python3"
  },
  "language_info": {
   "codemirror_mode": {
    "name": "ipython",
    "version": 3
   },
   "file_extension": ".py",
   "mimetype": "text/x-python",
   "name": "python",
   "nbconvert_exporter": "python",
   "pygments_lexer": "ipython3",
   "version": "3.11.7"
  }
 },
 "nbformat": 4,
 "nbformat_minor": 5
}
