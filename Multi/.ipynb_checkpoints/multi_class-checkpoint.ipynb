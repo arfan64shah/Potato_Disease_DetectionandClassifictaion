{
 "cells": [
  {
   "cell_type": "code",
   "execution_count": 4,
   "id": "0217a38e-3ec0-4c2b-ad4f-7b87f1ab1c31",
   "metadata": {},
   "outputs": [],
   "source": [
    "# import xlsxwriter\n",
    "import xlsxwriter as xlsx\n",
    "\n",
    "# create an excel worksheet\n",
    "workbook = xlsx.Workbook('healthy.xlsx')\n",
    "worksheet = workbook.add_worksheet()\n",
    "\n",
    "# write headers for newly created excel file\n",
    "worksheet.write('A1', 'Red_Mean')\n",
    "worksheet.write('B1', 'Red_Median')\n",
    "worksheet.write('C1', 'Red_Variance')\n",
    "worksheet.write('D1', 'Red_Std')\n",
    "worksheet.write('E1', 'Green_Mean')\n",
    "worksheet.write('F1', 'Green_Median')\n",
    "worksheet.write('G1', 'Green_Variance')\n",
    "worksheet.write('H1', 'Green_Std')\n",
    "worksheet.write('I1', 'Blue_Mean')\n",
    "worksheet.write('J1', 'Blue_Median')\n",
    "worksheet.write('K1', 'Blue_Variance')\n",
    "worksheet.write('L1', 'Blue_Std')\n",
    "workbook.close()"
   ]
  },
  {
   "cell_type": "code",
   "execution_count": 8,
   "id": "1c1895db-9644-46d8-9c6b-07bc107868ad",
   "metadata": {},
   "outputs": [
    {
     "name": "stdout",
     "output_type": "stream",
     "text": [
      "There are total 1824 images in the list.\n"
     ]
    }
   ],
   "source": [
    "# now read the healthy images and store them in a list\n",
    "import glob\n",
    "from skimage import io\n",
    "\n",
    "# create an empty list\n",
    "healthy_list = []\n",
    "for image in glob.glob(r'C:\\Users\\Arfan Shah\\potato_data\\multi\\Train\\Potato___healthy\\*.*'):\n",
    "    healthy_image = io.imread(image)\n",
    "\n",
    "    # append to list\n",
    "    healthy_list.append(healthy_image)\n",
    "\n",
    "print(\"There are total\", len(healthy_list), 'images in the list.')    "
   ]
  },
  {
   "cell_type": "code",
   "execution_count": null,
   "id": "b72f212f-924c-4c33-a37c-ce4fb840dc08",
   "metadata": {},
   "outputs": [],
   "source": [
    "# now read images from list and extract features\n",
    "for x in range(len(healthy_list)):\n",
    "    image_healthy = healthy_list[x]\n",
    "\n",
    "    # convert image into array\n",
    "    healthy_array = np.asarray(image_healthy)\n",
    "\n",
    "    # split each color into three channels\n",
    "    red_healthy = healthy_array[:, :, 0]\n",
    "    green_healthy = healthy_array[:, :, 1]\n",
    "    blue_healthy = healthy_array[:, :, 2]\n",
    "\n",
    "    # extract features for red channel\n",
    "    Red_Mean = np.mean(red_healthy)\n",
    "    print(Red_Mean)\n",
    "    Red_Median = np.median(red_healthy)\n",
    "    print(Red_Median)\n",
    "    Red_Variance = np.var(red_healthy)\n",
    "    print(Red_Variance)\n",
    "    Red_Std = math.sqrt(Red_Variance)\n",
    "    print(Red_Std)\n",
    "\n",
    "    # extract features for green channels\n",
    "    Green_Mean = np.mean(green_healthy)\n",
    "    print(Green_Mean)\n",
    "    Green_Median = np.median(green_healthy)\n",
    "    print(Green_Median)\n",
    "    Green_Variance = np.var(green_healthy)\n",
    "    print(Green_Variance)\n",
    "    Green_Std "
   ]
  }
 ],
 "metadata": {
  "kernelspec": {
   "display_name": "Python 3 (ipykernel)",
   "language": "python",
   "name": "python3"
  },
  "language_info": {
   "codemirror_mode": {
    "name": "ipython",
    "version": 3
   },
   "file_extension": ".py",
   "mimetype": "text/x-python",
   "name": "python",
   "nbconvert_exporter": "python",
   "pygments_lexer": "ipython3",
   "version": "3.11.7"
  }
 },
 "nbformat": 4,
 "nbformat_minor": 5
}
