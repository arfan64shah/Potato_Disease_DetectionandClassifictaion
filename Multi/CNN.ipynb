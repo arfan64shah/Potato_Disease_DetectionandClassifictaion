{
 "cells": [
  {
   "cell_type": "code",
   "execution_count": 2,
   "id": "1555e2ad-82ca-4205-8553-0f75933228fb",
   "metadata": {},
   "outputs": [],
   "source": [
    "# import all the necessary libraries\n",
    "import numpy as np\n",
    "import pandas as pd\n",
    "import tensorflow\n",
    "from tensorflow import keras\n",
    "from keras import Sequential\n",
    "from keras.layers import Conv2D, MaxPooling2D, Dense\n",
    "import os\n",
    "from skimage import io\n",
    "import glob"
   ]
  },
  {
   "cell_type": "code",
   "execution_count": 3,
   "id": "b0214d72-4341-4ed4-a205-db7b7b89635c",
   "metadata": {},
   "outputs": [
    {
     "data": {
      "text/plain": [
       "(256, 256, 3)"
      ]
     },
     "execution_count": 3,
     "metadata": {},
     "output_type": "execute_result"
    }
   ],
   "source": [
    "img = io.imread(r\"C:\\Users\\Arfan Shah\\potato_large_dataset\\multi\\Train\\_healthy\\00fc2ee5-729f-4757-8aeb-65c3355874f2___RS_HL 1864 - Copy.JPG\")\n",
    "img.shape"
   ]
  },
  {
   "cell_type": "code",
   "execution_count": null,
   "id": "d044242f-d6b5-442b-8664-03d3f8e07ec1",
   "metadata": {},
   "outputs": [],
   "source": [
    "# load and read dataset\n",
    "\n",
    "# all data\n",
    "dataset = []\n",
    "\n",
    "# specify path as a raw string\n",
    "path = r'C:\\Users\\Arfan Shah\\OneDrive - Aga Khan University\\Desktop\\Test'\n",
    "\n",
    "categories = ['_healthy', 'early_blight', 'late_blight']\n",
    "\n",
    "for i in categories:\n",
    "\n",
    "    # path of training data\n",
    "    data_path = os.path.join(path, i)\n",
    "\n",
    "    # if else to label\n",
    "    if (i == 'healthy'):\n",
    "        label = 0\n",
    "    elif (i == 'early_blight'):  \n",
    "        label = 1\n",
    "    else:\n",
    "        label = 2\n",
    "    for j in os.listdir(data_path):\n",
    "\n",
    "        for k in os.listdir(data_path):\n",
    "            img_path = os.path.join(data_path, k)\n",
    "            img = io.imread(img_path)\n",
    "            img = np.resize(img, (256, 256, 3))\n",
    "            img_array = np.asarray(img)\n",
    "            dataset.append([img_array, label])\n",
    "        "
   ]
  },
  {
   "cell_type": "code",
   "execution_count": 4,
   "id": "bfde3241-77cb-4b29-9d75-c891a6266a7a",
   "metadata": {},
   "outputs": [],
   "source": [
    "import os\n",
    "from skimage import io\n",
    "import numpy as np\n",
    "\n",
    "def load_images(path, categories, target_size=(256, 256, 3)):\n",
    "    dataset = []\n",
    "    \n",
    "    for i, category in enumerate(categories):\n",
    "        data_path = os.path.join(path, category)\n",
    "        \n",
    "        if category == '_healthy':\n",
    "            label = 0\n",
    "        elif category == 'early_blight':\n",
    "            label = 1\n",
    "        else:\n",
    "            label = 2\n",
    "\n",
    "        for filename in os.listdir(data_path):\n",
    "            img_path = os.path.join(data_path, filename)\n",
    "            img = io.imread(img_path)\n",
    "            img = np.resize(img, target_size)\n",
    "            img_array = np.asarray(img)\n",
    "            dataset.append([img_array, label])\n",
    "    \n",
    "    return dataset\n",
    "\n",
    "# Specify the path to your test data\n",
    "test_path = r'C:\\Users\\Arfan Shah\\OneDrive - Aga Khan University\\Desktop\\Test'\n",
    "\n",
    "# Specify the categories\n",
    "test_categories = ['_healthy', 'early_blight', 'late_blight']\n",
    "\n",
    "# Load test images using the generator\n",
    "test_dataset = load_images(test_path, test_categories)"
   ]
  },
  {
   "cell_type": "code",
   "execution_count": 6,
   "id": "e9176ab6-5706-4d35-8825-45746ec07147",
   "metadata": {},
   "outputs": [
    {
     "data": {
      "text/plain": [
       "1350"
      ]
     },
     "execution_count": 6,
     "metadata": {},
     "output_type": "execute_result"
    }
   ],
   "source": [
    "len(test_dataset)"
   ]
  },
  {
   "cell_type": "code",
   "execution_count": 7,
   "id": "1e9ffbcc-cdc6-4d3a-b724-84ed9145b433",
   "metadata": {},
   "outputs": [
    {
     "data": {
      "text/plain": [
       "[array([[[205, 186, 190],\n",
       "         [155, 136, 140],\n",
       "         [187, 168, 172],\n",
       "         ...,\n",
       "         [166, 147, 153],\n",
       "         [164, 145, 151],\n",
       "         [167, 148, 154]],\n",
       " \n",
       "        [[185, 166, 170],\n",
       "         [168, 149, 153],\n",
       "         [171, 152, 156],\n",
       "         ...,\n",
       "         [183, 164, 170],\n",
       "         [192, 173, 179],\n",
       "         [158, 139, 145]],\n",
       " \n",
       "        [[191, 172, 176],\n",
       "         [187, 168, 172],\n",
       "         [180, 161, 165],\n",
       "         ...,\n",
       "         [145, 126, 132],\n",
       "         [134, 115, 121],\n",
       "         [179, 160, 166]],\n",
       " \n",
       "        ...,\n",
       " \n",
       "        [[172, 155, 163],\n",
       "         [147, 130, 138],\n",
       "         [184, 167, 175],\n",
       "         ...,\n",
       "         [180, 165, 172],\n",
       "         [186, 171, 178],\n",
       "         [185, 170, 177]],\n",
       " \n",
       "        [[202, 185, 193],\n",
       "         [173, 156, 164],\n",
       "         [191, 174, 182],\n",
       "         ...,\n",
       "         [188, 173, 180],\n",
       "         [169, 154, 161],\n",
       "         [184, 169, 176]],\n",
       " \n",
       "        [[182, 165, 173],\n",
       "         [177, 160, 168],\n",
       "         [182, 165, 173],\n",
       "         ...,\n",
       "         [185, 170, 177],\n",
       "         [169, 154, 161],\n",
       "         [190, 175, 182]]], dtype=uint8),\n",
       " 0]"
      ]
     },
     "execution_count": 7,
     "metadata": {},
     "output_type": "execute_result"
    }
   ],
   "source": [
    "# show first image\n",
    "test_dataset[0]"
   ]
  },
  {
   "cell_type": "code",
   "execution_count": 11,
   "id": "e09270f6-9af7-4a3d-ab6a-9311b4f3f4dd",
   "metadata": {},
   "outputs": [
    {
     "data": {
      "text/plain": [
       "list"
      ]
     },
     "execution_count": 11,
     "metadata": {},
     "output_type": "execute_result"
    }
   ],
   "source": [
    "type(test_dataset)"
   ]
  },
  {
   "cell_type": "code",
   "execution_count": 25,
   "id": "2e6d5604-7ae8-41b1-9c10-a757a0bffb6a",
   "metadata": {},
   "outputs": [
    {
     "data": {
      "text/plain": [
       "0"
      ]
     },
     "execution_count": 25,
     "metadata": {},
     "output_type": "execute_result"
    }
   ],
   "source": [
    "test_dataset[0][1]"
   ]
  },
  {
   "cell_type": "code",
   "execution_count": null,
   "id": "c8ad69e3-8e6e-4650-af65-21bddc6ca350",
   "metadata": {},
   "outputs": [],
   "source": []
  }
 ],
 "metadata": {
  "kernelspec": {
   "display_name": "Python 3 (ipykernel)",
   "language": "python",
   "name": "python3"
  },
  "language_info": {
   "codemirror_mode": {
    "name": "ipython",
    "version": 3
   },
   "file_extension": ".py",
   "mimetype": "text/x-python",
   "name": "python",
   "nbconvert_exporter": "python",
   "pygments_lexer": "ipython3",
   "version": "3.11.7"
  }
 },
 "nbformat": 4,
 "nbformat_minor": 5
}
