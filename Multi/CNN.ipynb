{
 "cells": [
  {
   "cell_type": "code",
   "execution_count": 13,
   "id": "1555e2ad-82ca-4205-8553-0f75933228fb",
   "metadata": {},
   "outputs": [],
   "source": [
    "# import all the necessary libraries\n",
    "import numpy as np\n",
    "import pandas as pd\n",
    "import tensorflow\n",
    "from tensorflow import keras\n",
    "from keras import Sequential\n",
    "from keras.layers import Conv2D, MaxPooling2D, Dense\n",
    "import os\n",
    "from skimage import io\n",
    "import glob"
   ]
  },
  {
   "cell_type": "code",
   "execution_count": 15,
   "id": "b0214d72-4341-4ed4-a205-db7b7b89635c",
   "metadata": {},
   "outputs": [
    {
     "data": {
      "text/plain": [
       "(256, 256, 3)"
      ]
     },
     "execution_count": 15,
     "metadata": {},
     "output_type": "execute_result"
    }
   ],
   "source": [
    "img = io.imread(r\"C:\\Users\\Arfan Shah\\potato_large_dataset\\multi\\Train\\_healthy\\00fc2ee5-729f-4757-8aeb-65c3355874f2___RS_HL 1864 - Copy.JPG\")\n",
    "img.shape"
   ]
  },
  {
   "cell_type": "code",
   "execution_count": null,
   "id": "d044242f-d6b5-442b-8664-03d3f8e07ec1",
   "metadata": {},
   "outputs": [],
   "source": [
    "# load and read dataset\n",
    "\n",
    "# all data\n",
    "dataset = []\n",
    "\n",
    "# specify path as a raw string\n",
    "path = r'C:\\Users\\Arfan Shah\\OneDrive - Aga Khan University\\Desktop\\Test'\n",
    "\n",
    "categories = ['_healthy', 'early_blight', 'late_blight']\n",
    "\n",
    "for i in categories:\n",
    "\n",
    "    # path of training data\n",
    "    data_path = os.path.join(path, i)\n",
    "\n",
    "    # if else to label\n",
    "    if (i == 'healthy'):\n",
    "        label = 0\n",
    "    elif (i == 'early_blight'):  \n",
    "        label = 1\n",
    "    else:\n",
    "        label = 2\n",
    "    for j in os.listdir(data_path):\n",
    "\n",
    "        for k in os.listdir(data_path):\n",
    "            img_path = os.path.join(data_path, k)\n",
    "            img = io.imread(img_path)\n",
    "            img = np.resize(img, (256, 256, 3))\n",
    "            img_array = np.asarray(img)\n",
    "            dataset.append([img_array, label])\n",
    "        "
   ]
  },
  {
   "cell_type": "code",
   "execution_count": 1,
   "id": "bfde3241-77cb-4b29-9d75-c891a6266a7a",
   "metadata": {},
   "outputs": [],
   "source": [
    "import os\n",
    "from skimage import io\n",
    "import numpy as np\n",
    "\n",
    "def load_images(path, categories, target_size=(256, 256, 3)):\n",
    "    dataset = []\n",
    "    \n",
    "    for i, category in enumerate(categories):\n",
    "        data_path = os.path.join(path, category)\n",
    "        \n",
    "        if category == '_healthy':\n",
    "            label = 0\n",
    "        elif category == 'early_blight':\n",
    "            label = 1\n",
    "        else:\n",
    "            label = 2\n",
    "\n",
    "        for filename in os.listdir(data_path):\n",
    "            img_path = os.path.join(data_path, filename)\n",
    "            img = io.imread(img_path)\n",
    "            img = np.resize(img, target_size)\n",
    "            img_array = np.asarray(img)\n",
    "            dataset.append([img_array, label])\n",
    "    \n",
    "    return dataset\n",
    "\n",
    "# Specify the path to your test data\n",
    "test_path = r'C:\\Users\\Arfan Shah\\OneDrive - Aga Khan University\\Desktop\\Test'\n",
    "\n",
    "# Specify the categories\n",
    "test_categories = ['_healthy', 'early_blight', 'late_blight']\n",
    "\n",
    "# Load test images using the generator\n",
    "test_dataset = load_images(test_path, test_categories)\n",
    "\n",
    "# Now you can use the test_dataset for further processing\n"
   ]
  },
  {
   "cell_type": "code",
   "execution_count": 10,
   "id": "e9176ab6-5706-4d35-8825-45746ec07147",
   "metadata": {},
   "outputs": [
    {
     "data": {
      "text/plain": [
       "[array([[[115, 103, 117],\n",
       "         [107,  95, 109],\n",
       "         [103,  91, 105],\n",
       "         ...,\n",
       "         [154, 148, 162],\n",
       "         [153, 147, 161],\n",
       "         [152, 146, 160]],\n",
       " \n",
       "        [[116, 104, 118],\n",
       "         [112, 100, 114],\n",
       "         [111,  99, 113],\n",
       "         ...,\n",
       "         [149, 143, 157],\n",
       "         [149, 143, 157],\n",
       "         [150, 144, 158]],\n",
       " \n",
       "        [[113, 101, 115],\n",
       "         [112, 100, 114],\n",
       "         [114, 102, 116],\n",
       "         ...,\n",
       "         [149, 143, 157],\n",
       "         [151, 145, 159],\n",
       "         [153, 147, 161]],\n",
       " \n",
       "        ...,\n",
       " \n",
       "        [[105,  90,  97],\n",
       "         [106,  91,  98],\n",
       "         [113,  98, 105],\n",
       "         ...,\n",
       "         [163, 152, 160],\n",
       "         [163, 152, 160],\n",
       "         [161, 150, 158]],\n",
       " \n",
       "        [[101,  86,  93],\n",
       "         [121, 106, 113],\n",
       "         [119, 104, 111],\n",
       "         ...,\n",
       "         [162, 151, 159],\n",
       "         [162, 151, 159],\n",
       "         [158, 147, 155]],\n",
       " \n",
       "        [[ 94,  79,  86],\n",
       "         [117, 102, 109],\n",
       "         [100,  85,  92],\n",
       "         ...,\n",
       "         [158, 147, 155],\n",
       "         [158, 147, 155],\n",
       "         [153, 142, 150]]], dtype=uint8),\n",
       " 2]"
      ]
     },
     "execution_count": 10,
     "metadata": {},
     "output_type": "execute_result"
    }
   ],
   "source": [
    "test_dataset[1349]"
   ]
  },
  {
   "cell_type": "code",
   "execution_count": null,
   "id": "1e9ffbcc-cdc6-4d3a-b724-84ed9145b433",
   "metadata": {},
   "outputs": [],
   "source": []
  }
 ],
 "metadata": {
  "kernelspec": {
   "display_name": "Python 3 (ipykernel)",
   "language": "python",
   "name": "python3"
  },
  "language_info": {
   "codemirror_mode": {
    "name": "ipython",
    "version": 3
   },
   "file_extension": ".py",
   "mimetype": "text/x-python",
   "name": "python",
   "nbconvert_exporter": "python",
   "pygments_lexer": "ipython3",
   "version": "3.11.7"
  }
 },
 "nbformat": 4,
 "nbformat_minor": 5
}
