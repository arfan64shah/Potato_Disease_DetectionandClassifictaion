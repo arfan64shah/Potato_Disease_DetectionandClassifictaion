{
 "cells": [
  {
   "cell_type": "code",
   "execution_count": 1,
   "id": "0217a38e-3ec0-4c2b-ad4f-7b87f1ab1c31",
   "metadata": {},
   "outputs": [],
   "source": [
    "# import xlsxwriter\n",
    "import xlsxwriter as xlsx\n",
    "\n",
    "# create an excel worksheet\n",
    "workbook = xlsx.Workbook('healthy.xlsx')\n",
    "worksheet = workbook.add_worksheet()\n",
    "\n",
    "# write headers for newly created excel file\n",
    "worksheet.write('A1', 'Red_Mean')\n",
    "worksheet.write('B1', 'Red_Median')\n",
    "worksheet.write('C1', 'Red_Variance')\n",
    "worksheet.write('D1', 'Red_Std')\n",
    "worksheet.write('E1', 'Green_Mean')\n",
    "worksheet.write('F1', 'Green_Median')\n",
    "worksheet.write('G1', 'Green_Variance')\n",
    "worksheet.write('H1', 'Green_Std')\n",
    "worksheet.write('I1', 'Blue_Mean')\n",
    "worksheet.write('J1', 'Blue_Median')\n",
    "worksheet.write('K1', 'Blue_Variance')\n",
    "worksheet.write('L1', 'Blue_Std')\n",
    "workbook.close()"
   ]
  },
  {
   "cell_type": "code",
   "execution_count": 2,
   "id": "1c1895db-9644-46d8-9c6b-07bc107868ad",
   "metadata": {},
   "outputs": [
    {
     "name": "stdout",
     "output_type": "stream",
     "text": [
      "There are total 1824 images in the list.\n"
     ]
    }
   ],
   "source": [
    "# now read the healthy images and store them in a list\n",
    "import glob\n",
    "from skimage import io\n",
    "\n",
    "# create an empty list\n",
    "healthy_list = []\n",
    "for image in glob.glob(r'C:\\Users\\Arfan Shah\\potato_data\\multi\\Train\\Potato___healthy\\*.*'):\n",
    "    healthy_image = io.imread(image)\n",
    "\n",
    "    # append to list\n",
    "    healthy_list.append(healthy_image)\n",
    "\n",
    "print(\"There are total\", len(healthy_list), 'images in the list.')    "
   ]
  },
  {
   "cell_type": "code",
   "execution_count": 4,
   "id": "b72f212f-924c-4c33-a37c-ce4fb840dc08",
   "metadata": {},
   "outputs": [
    {
     "name": "stdout",
     "output_type": "stream",
     "text": [
      "115.22280883789062\n",
      "128.0\n",
      "2945.935982442461\n",
      "54.27647724790603\n",
      "122.95951843261719\n",
      "133.0\n",
      "1651.9029785522725\n",
      "40.64360931994442\n",
      "103.23875427246094\n",
      "117.0\n",
      "3019.9134706405457\n",
      "54.953739369041536\n"
     ]
    },
    {
     "ename": "NameError",
     "evalue": "name 'BLue_Variance' is not defined",
     "output_type": "error",
     "traceback": [
      "\u001b[1;31m---------------------------------------------------------------------------\u001b[0m",
      "\u001b[1;31mNameError\u001b[0m                                 Traceback (most recent call last)",
      "Cell \u001b[1;32mIn[4], line 48\u001b[0m\n\u001b[0;32m     45\u001b[0m \u001b[38;5;28mprint\u001b[39m(Blue_Std)\n\u001b[0;32m     47\u001b[0m \u001b[38;5;66;03m# make a single list of extracted features of all three channels\u001b[39;00m\n\u001b[1;32m---> 48\u001b[0m healthy_values \u001b[38;5;241m=\u001b[39m [Red_Mean, Red_Median, Red_Variance, Red_Std, Green_Mean, Green_Median, Green_Variance, Green_Std, Blue_Mean, Blue_Median, \u001b[43mBLue_Variance\u001b[49m, Blue_Std]\n\u001b[0;32m     50\u001b[0m \u001b[38;5;66;03m# load the newly created file and then add values to it\u001b[39;00m\n\u001b[0;32m     51\u001b[0m outworkbook \u001b[38;5;241m=\u001b[39m openpyxl\u001b[38;5;241m.\u001b[39mload_workbook(\u001b[38;5;124m'\u001b[39m\u001b[38;5;124mhealthy.xlsx\u001b[39m\u001b[38;5;124m'\u001b[39m)\n",
      "\u001b[1;31mNameError\u001b[0m: name 'BLue_Variance' is not defined"
     ]
    }
   ],
   "source": [
    "# now read images from list and extract features\n",
    "import math\n",
    "import openpyxl\n",
    "import numpy as np\n",
    "\n",
    "for x in range(len(healthy_list)):\n",
    "    image_healthy = healthy_list[x]\n",
    "\n",
    "    # convert image into array\n",
    "    healthy_array = np.asarray(image_healthy)\n",
    "\n",
    "    # split each color into three channels\n",
    "    red_healthy = healthy_array[:, :, 0]\n",
    "    green_healthy = healthy_array[:, :, 1]\n",
    "    blue_healthy = healthy_array[:, :, 2]\n",
    "\n",
    "    # extract features for red channel\n",
    "    Red_Mean = np.mean(red_healthy)\n",
    "    print(Red_Mean)\n",
    "    Red_Median = np.median(red_healthy)\n",
    "    print(Red_Median)\n",
    "    Red_Variance = np.var(red_healthy)\n",
    "    print(Red_Variance)\n",
    "    Red_Std = math.sqrt(Red_Variance)\n",
    "    print(Red_Std)\n",
    "\n",
    "    # extract features for green channels\n",
    "    Green_Mean = np.mean(green_healthy)\n",
    "    print(Green_Mean)\n",
    "    Green_Median = np.median(green_healthy)\n",
    "    print(Green_Median)\n",
    "    Green_Variance = np.var(green_healthy)\n",
    "    print(Green_Variance)\n",
    "    Green_Std = math.sqrt(Green_Variance)\n",
    "    print(Green_Std)\n",
    "\n",
    "    # extract features for blue channel\n",
    "    Blue_Mean = np.mean(blue_healthy)\n",
    "    print(Blue_Mean)\n",
    "    Blue_Median = np.median(blue_healthy)\n",
    "    print(Blue_Median)\n",
    "    Blue_Variance = np.var(blue_healthy)\n",
    "    print(Blue_Variance)\n",
    "    Blue_Std = math.sqrt(Blue_Variance)\n",
    "    print(Blue_Std)\n",
    "\n",
    "    # make a single list of extracted features of all three channels\n",
    "    healthy_values = [Red_Mean, Red_Median, Red_Variance, Red_Std, Green_Mean, Green_Median, Green_Variance, Green_Std, Blue_Mean, Blue_Median, Blue_Variance, Blue_Std]\n",
    "\n",
    "    # load the newly created file and then add values to it\n",
    "    outworkbook = openpyxl.load_workbook('healthy.xlsx')\n",
    "    outsheet = outworkbook.active\n",
    "\n",
    "    # add extracted values into sheet\n",
    "    outsheet.append(healthy_values)\n",
    "\n",
    "    # save newly added changes\n",
    "    outworkbook.save(filename = 'healthy.xlsx')\n",
    "    "
   ]
  },
  {
   "cell_type": "code",
   "execution_count": null,
   "id": "ee48a680-948d-4a9b-8941-5fe7879a69a4",
   "metadata": {},
   "outputs": [],
   "source": []
  }
 ],
 "metadata": {
  "kernelspec": {
   "display_name": "Python 3 (ipykernel)",
   "language": "python",
   "name": "python3"
  },
  "language_info": {
   "codemirror_mode": {
    "name": "ipython",
    "version": 3
   },
   "file_extension": ".py",
   "mimetype": "text/x-python",
   "name": "python",
   "nbconvert_exporter": "python",
   "pygments_lexer": "ipython3",
   "version": "3.11.7"
  }
 },
 "nbformat": 4,
 "nbformat_minor": 5
}
