{
 "cells": [
  {
   "cell_type": "code",
   "execution_count": 2,
   "id": "80472183",
   "metadata": {},
   "outputs": [
    {
     "name": "stdout",
     "output_type": "stream",
     "text": [
      "Found 3734 images belonging to 2 classes.\n",
      "Found 3734 images belonging to 2 classes.\n",
      "Epoch 1/10\n"
     ]
    },
    {
     "name": "stderr",
     "output_type": "stream",
     "text": [
      "C:\\Users\\Arfan Shah\\AppData\\Local\\Temp\\ipykernel_9940\\226124853.py:69: UserWarning: `Model.fit_generator` is deprecated and will be removed in a future version. Please use `Model.fit`, which supports generators.\n",
      "  CNN_Classifier.fit_generator(training_set,\n"
     ]
    },
    {
     "name": "stdout",
     "output_type": "stream",
     "text": [
      "100/100 [==============================] - 13s 127ms/step - loss: 0.6658 - accuracy: 0.7326 - val_loss: 0.3897 - val_accuracy: 0.8612\n",
      "Epoch 2/10\n",
      "100/100 [==============================] - 12s 123ms/step - loss: 0.2887 - accuracy: 0.8978 - val_loss: 0.2699 - val_accuracy: 0.8687\n",
      "Epoch 3/10\n",
      "100/100 [==============================] - 12s 122ms/step - loss: 0.1784 - accuracy: 0.9310 - val_loss: 0.1056 - val_accuracy: 0.9644\n",
      "Epoch 4/10\n",
      "100/100 [==============================] - 12s 124ms/step - loss: 0.1192 - accuracy: 0.9549 - val_loss: 0.1686 - val_accuracy: 0.9300\n",
      "Epoch 5/10\n",
      "100/100 [==============================] - 12s 124ms/step - loss: 0.0986 - accuracy: 0.9668 - val_loss: 0.1149 - val_accuracy: 0.9506\n",
      "Epoch 6/10\n",
      "100/100 [==============================] - 12s 123ms/step - loss: 0.0759 - accuracy: 0.9718 - val_loss: 0.1215 - val_accuracy: 0.9513\n",
      "Epoch 7/10\n",
      "100/100 [==============================] - 12s 122ms/step - loss: 0.0694 - accuracy: 0.9762 - val_loss: 0.0491 - val_accuracy: 0.9775\n",
      "Epoch 8/10\n",
      "100/100 [==============================] - 12s 123ms/step - loss: 0.0679 - accuracy: 0.9727 - val_loss: 0.2986 - val_accuracy: 0.8900\n",
      "Epoch 9/10\n",
      "100/100 [==============================] - 12s 122ms/step - loss: 0.0513 - accuracy: 0.9793 - val_loss: 0.0931 - val_accuracy: 0.9600\n",
      "Epoch 10/10\n",
      "100/100 [==============================] - 12s 122ms/step - loss: 0.0650 - accuracy: 0.9768 - val_loss: 0.0905 - val_accuracy: 0.9613\n",
      "1/1 [==============================] - 0s 52ms/step\n",
      "Healthy\n"
     ]
    }
   ],
   "source": [
    "import numpy as np\n",
    "\n",
    "# Importing the Keras libraries and packages\n",
    "\n",
    "from tensorflow.keras.models import Sequential\n",
    "from tensorflow.keras.layers import Conv2D\n",
    "from tensorflow.keras.layers import MaxPooling2D\n",
    "from tensorflow.keras.layers import Flatten\n",
    "from tensorflow.keras.layers import Dense\n",
    "from PIL import Image\n",
    "\n",
    "# Initialising the CNN\n",
    "\n",
    "\n",
    "CNN_Classifier=Sequential();\n",
    "\n",
    "# Step 1 - Convolution\n",
    "CNN_Classifier.add(Conv2D(32,(3,3),input_shape=(64,64,3), activation='relu'))\n",
    "\n",
    "# Step 2 - Pooling\n",
    "CNN_Classifier.add(MaxPooling2D(pool_size=(2,2)))\n",
    "\n",
    "# # Step 1 - Convolution\n",
    "# CNN_Classifier.add(Conv2D(16,(3,3),activation='relu'))\n",
    "\n",
    "# # Step 2 - Pooling\n",
    "# CNN_Classifier.add(MaxPooling2D(pool_size=(2,2)))\n",
    "\n",
    "\n",
    "# Step 3 - Flattening\n",
    "CNN_Classifier.add(Flatten())\n",
    "\n",
    "\n",
    "# Step 4 - Full connection\n",
    "\n",
    "CNN_Classifier.add(Dense(128, activation='relu'))\n",
    "\n",
    "# # Adding the Second the Hidden Layer\n",
    "# CNN_Classifier.add(Dense(units=40, activation='sigmoid'))\n",
    "\n",
    "# # Adding the Third  Hidden Layer\n",
    "# CNN_Classifier.add(Dense(units=20, activation='relu'))\n",
    "\n",
    "# Adding the Output Layer\n",
    "CNN_Classifier.add(Dense(1, activation='sigmoid'))\n",
    "\n",
    "# Compiling the CNN\n",
    "CNN_Classifier.compile(optimizer ='adam',loss='binary_crossentropy',metrics=['accuracy'])\n",
    "\n",
    "from tensorflow.keras.preprocessing.image import ImageDataGenerator\n",
    "\n",
    "train_datagen = ImageDataGenerator(rescale = 1./255,\n",
    "                                   shear_range = 0.2,\n",
    "                                   zoom_range = 0.2,\n",
    "                                   horizontal_flip = True)\n",
    "\n",
    "test_datagen = ImageDataGenerator(rescale = 1./255)\n",
    "\n",
    "training_set = train_datagen.flow_from_directory('C:/Users/Arfan Shah/Potato_Disease_DetectionandClassifictaion/data/binary/Train',\n",
    "                                                 target_size = (64, 64),\n",
    "                                                 batch_size = 32,\n",
    "                                                 class_mode = 'binary')\n",
    "\n",
    "test_set = test_datagen.flow_from_directory('C:/Users/Arfan Shah/Potato_Disease_DetectionandClassifictaion/data/binary//Test',\n",
    "                                            target_size = (64, 64),\n",
    "                                            batch_size = 32,\n",
    "                                            class_mode = 'binary')\n",
    "\n",
    "CNN_Classifier.fit_generator(training_set,\n",
    "                         steps_per_epoch = 100,\n",
    "                         epochs = 10,\n",
    "                         validation_data = test_set,\n",
    "                         validation_steps = 50)\n",
    "\n",
    "\n",
    "\n",
    "from tensorflow.keras.preprocessing import image\n",
    "test_image = image.load_img ('C:/Users/Arfan Shah/Potato_Disease_DetectionandClassifictaion/data/binary/Single/B1(Unhealthy).JPG', target_size= (64, 64))\n",
    "test_image.show()\n",
    "test_image = image.img_to_array (test_image)\n",
    "test_image = np.expand_dims(test_image, axis = 0)\n",
    "results = CNN_Classifier.predict(test_image)\n",
    "training_set.class_indices\n",
    "if results[0][0] == 0:\n",
    "    prediction = 'Healthy'\n",
    "    print(prediction)\n",
    "else:\n",
    "    prediction = 'Unhealthy'\n",
    "    print(prediction)\n",
    "    "
   ]
  },
  {
   "cell_type": "code",
   "execution_count": 8,
   "id": "f5b8f0fc",
   "metadata": {},
   "outputs": [],
   "source": [
    "CNN_Classifier.save('binary_CNN.h5')"
   ]
  },
  {
   "cell_type": "code",
   "execution_count": 10,
   "id": "c6ec7332",
   "metadata": {},
   "outputs": [
    {
     "name": "stdout",
     "output_type": "stream",
     "text": [
      "1/1 [==============================] - 0s 21ms/step\n",
      "Healthy\n"
     ]
    }
   ],
   "source": [
    "from tensorflow import Graph\n",
    "import tensorflow as tf\n",
    "from tensorflow import keras\n",
    "from keras.models import load_model\n",
    "import numpy as np\n",
    "\n",
    "\n",
    "\n",
    "\n",
    "from tensorflow.keras.preprocessing import image\n",
    "test_image = image.load_img ('Binary_Data/Single/A.JPG', target_size= (64, 64))\n",
    "test_image.show()\n",
    "test_image = image.img_to_array (test_image)\n",
    "test_image = np.expand_dims(test_image, axis = 0)\n",
    "results = CNN_Classifier.predict(test_image)\n",
    "training_set.class_indices\n",
    "if results[0][0] == 0:\n",
    "    prediction = 'Healthy'\n",
    "    print(prediction)\n",
    "else:\n",
    "    prediction = 'Unhealthy'\n",
    "    print(prediction)\n",
    "        \n"
   ]
  },
  {
   "cell_type": "code",
   "execution_count": null,
   "id": "3ae5d85f",
   "metadata": {},
   "outputs": [],
   "source": []
  }
 ],
 "metadata": {
  "kernelspec": {
   "display_name": "Python 3 (ipykernel)",
   "language": "python",
   "name": "python3"
  },
  "language_info": {
   "codemirror_mode": {
    "name": "ipython",
    "version": 3
   },
   "file_extension": ".py",
   "mimetype": "text/x-python",
   "name": "python",
   "nbconvert_exporter": "python",
   "pygments_lexer": "ipython3",
   "version": "3.11.7"
  }
 },
 "nbformat": 4,
 "nbformat_minor": 5
}
