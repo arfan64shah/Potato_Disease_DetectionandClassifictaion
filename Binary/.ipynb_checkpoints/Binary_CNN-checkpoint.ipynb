{
 "cells": [
  {
   "cell_type": "code",
   "execution_count": 6,
   "id": "80472183",
   "metadata": {},
   "outputs": [
    {
     "name": "stdout",
     "output_type": "stream",
     "text": [
      "Found 3887 images belonging to 2 classes.\n",
      "Found 3887 images belonging to 2 classes.\n",
      "Epoch 1/20\n"
     ]
    },
    {
     "name": "stderr",
     "output_type": "stream",
     "text": [
      "/tmp/ipykernel_9246/2731987820.py:69: UserWarning: `Model.fit_generator` is deprecated and will be removed in a future version. Please use `Model.fit`, which supports generators.\n",
      "  CNN_Classifier.fit_generator(training_set,\n",
      "2023-05-06 18:24:23.504693: I tensorflow/core/common_runtime/executor.cc:1197] [/device:CPU:0] (DEBUG INFO) Executor start aborting (this does not indicate an error and you can ignore this message): INVALID_ARGUMENT: You must feed a value for placeholder tensor 'Placeholder/_0' with dtype int32\n",
      "\t [[{{node Placeholder/_0}}]]\n"
     ]
    },
    {
     "name": "stdout",
     "output_type": "stream",
     "text": [
      "100/100 [==============================] - ETA: 0s - loss: 0.1977 - accuracy: 0.9337"
     ]
    },
    {
     "name": "stderr",
     "output_type": "stream",
     "text": [
      "2023-05-06 18:24:33.230652: I tensorflow/core/common_runtime/executor.cc:1197] [/device:CPU:0] (DEBUG INFO) Executor start aborting (this does not indicate an error and you can ignore this message): INVALID_ARGUMENT: You must feed a value for placeholder tensor 'Placeholder/_0' with dtype int32\n",
      "\t [[{{node Placeholder/_0}}]]\n"
     ]
    },
    {
     "name": "stdout",
     "output_type": "stream",
     "text": [
      "100/100 [==============================] - 11s 108ms/step - loss: 0.1977 - accuracy: 0.9337 - val_loss: 0.0132 - val_accuracy: 0.9987\n",
      "Epoch 2/20\n",
      "100/100 [==============================] - 11s 112ms/step - loss: 0.0115 - accuracy: 0.9975 - val_loss: 0.0027 - val_accuracy: 0.9994\n",
      "Epoch 3/20\n",
      "100/100 [==============================] - 13s 131ms/step - loss: 0.0115 - accuracy: 0.9962 - val_loss: 0.0048 - val_accuracy: 0.9994\n",
      "Epoch 4/20\n",
      "100/100 [==============================] - 11s 105ms/step - loss: 0.0047 - accuracy: 0.9994 - val_loss: 0.0026 - val_accuracy: 0.9994\n",
      "Epoch 5/20\n",
      "100/100 [==============================] - 12s 115ms/step - loss: 0.0023 - accuracy: 0.9997 - val_loss: 0.0114 - val_accuracy: 0.9962\n",
      "Epoch 6/20\n",
      "100/100 [==============================] - 13s 133ms/step - loss: 0.0095 - accuracy: 0.9965 - val_loss: 0.0087 - val_accuracy: 0.9969\n",
      "Epoch 7/20\n",
      "100/100 [==============================] - 11s 106ms/step - loss: 0.0088 - accuracy: 0.9969 - val_loss: 0.0054 - val_accuracy: 0.9987\n",
      "Epoch 8/20\n",
      "100/100 [==============================] - 12s 116ms/step - loss: 0.0083 - accuracy: 0.9969 - val_loss: 0.0213 - val_accuracy: 0.9906\n",
      "Epoch 9/20\n",
      "100/100 [==============================] - 14s 142ms/step - loss: 0.0023 - accuracy: 0.9994 - val_loss: 0.0024 - val_accuracy: 0.9987\n",
      "Epoch 10/20\n",
      "100/100 [==============================] - 11s 109ms/step - loss: 0.0085 - accuracy: 0.9975 - val_loss: 7.2064e-04 - val_accuracy: 1.0000\n",
      "Epoch 11/20\n",
      "100/100 [==============================] - 12s 122ms/step - loss: 0.0107 - accuracy: 0.9944 - val_loss: 0.0012 - val_accuracy: 1.0000\n",
      "Epoch 12/20\n",
      "100/100 [==============================] - 13s 133ms/step - loss: 0.0076 - accuracy: 0.9972 - val_loss: 0.0151 - val_accuracy: 0.9937\n",
      "Epoch 13/20\n",
      "100/100 [==============================] - 11s 112ms/step - loss: 0.0112 - accuracy: 0.9965 - val_loss: 0.0023 - val_accuracy: 0.9994\n",
      "Epoch 14/20\n",
      "100/100 [==============================] - 13s 130ms/step - loss: 0.0074 - accuracy: 0.9975 - val_loss: 0.0396 - val_accuracy: 0.9862\n",
      "Epoch 15/20\n",
      "100/100 [==============================] - 10s 105ms/step - loss: 0.0052 - accuracy: 0.9981 - val_loss: 0.0053 - val_accuracy: 0.9975\n",
      "Epoch 16/20\n",
      "100/100 [==============================] - 11s 114ms/step - loss: 0.0038 - accuracy: 0.9984 - val_loss: 0.0238 - val_accuracy: 0.9937\n",
      "Epoch 17/20\n",
      "100/100 [==============================] - 14s 136ms/step - loss: 0.0059 - accuracy: 0.9981 - val_loss: 0.0167 - val_accuracy: 0.9937\n",
      "Epoch 18/20\n",
      "100/100 [==============================] - 11s 107ms/step - loss: 0.0048 - accuracy: 0.9984 - val_loss: 0.0069 - val_accuracy: 0.9969\n",
      "Epoch 19/20\n",
      "100/100 [==============================] - 12s 115ms/step - loss: 0.0025 - accuracy: 0.9991 - val_loss: 0.0133 - val_accuracy: 0.9944\n",
      "Epoch 20/20\n",
      "100/100 [==============================] - 15s 145ms/step - loss: 7.2508e-04 - accuracy: 1.0000 - val_loss: 6.7367e-04 - val_accuracy: 0.9994\n",
      "1/1 [==============================] - 0s 84ms/step\n",
      "Unhealthy\n"
     ]
    }
   ],
   "source": [
    "import numpy as np;\n",
    "\n",
    "# Importing the Keras libraries and packages\n",
    "\n",
    "from tensorflow.keras.models import Sequential\n",
    "from tensorflow.keras.layers import Conv2D\n",
    "from tensorflow.keras.layers import MaxPooling2D\n",
    "from tensorflow.keras.layers import Flatten\n",
    "from tensorflow.keras.layers import Dense\n",
    "from PIL import Image\n",
    "\n",
    "# Initialising the CNN\n",
    "\n",
    "\n",
    "CNN_Classifier=Sequential();\n",
    "\n",
    "# Step 1 - Convolution\n",
    "CNN_Classifier.add(Conv2D(32,(3,3),input_shape=(64,64,3), activation='relu'))\n",
    "\n",
    "# Step 2 - Pooling\n",
    "CNN_Classifier.add(MaxPooling2D(pool_size=(2,2)))\n",
    "\n",
    "# # Step 1 - Convolution\n",
    "# CNN_Classifier.add(Conv2D(16,(3,3),activation='relu'))\n",
    "\n",
    "# # Step 2 - Pooling\n",
    "# CNN_Classifier.add(MaxPooling2D(pool_size=(2,2)))\n",
    "\n",
    "\n",
    "# Step 3 - Flattening\n",
    "CNN_Classifier.add(Flatten())\n",
    "\n",
    "\n",
    "# Step 4 - Full connection\n",
    "\n",
    "CNN_Classifier.add(Dense(128, activation='relu'))\n",
    "\n",
    "# # Adding the Second the Hidden Layer\n",
    "# CNN_Classifier.add(Dense(units=40, activation='sigmoid'))\n",
    "\n",
    "# # Adding the Third  Hidden Layer\n",
    "# CNN_Classifier.add(Dense(units=20, activation='relu'))\n",
    "\n",
    "# Adding the Output Layer\n",
    "CNN_Classifier.add(Dense(1, activation='sigmoid'))\n",
    "\n",
    "# Compiling the CNN\n",
    "CNN_Classifier.compile(optimizer ='adam',loss='binary_crossentropy',metrics=['accuracy'])\n",
    "\n",
    "from tensorflow.keras.preprocessing.image import ImageDataGenerator\n",
    "\n",
    "train_datagen = ImageDataGenerator(rescale = 1./255,\n",
    "                                   shear_range = 0.2,\n",
    "                                   zoom_range = 0.2,\n",
    "                                   horizontal_flip = True)\n",
    "\n",
    "test_datagen = ImageDataGenerator(rescale = 1./255)\n",
    "\n",
    "training_set = train_datagen.flow_from_directory('Binary_Data/Train',\n",
    "                                                 target_size = (64, 64),\n",
    "                                                 batch_size = 32,\n",
    "                                                 class_mode = 'binary')\n",
    "\n",
    "test_set = test_datagen.flow_from_directory('Binary_Data/Test',\n",
    "                                            target_size = (64, 64),\n",
    "                                            batch_size = 32,\n",
    "                                            class_mode = 'binary')\n",
    "\n",
    "CNN_Classifier.fit_generator(training_set,\n",
    "                         steps_per_epoch = 100,\n",
    "                         epochs = 20,\n",
    "                         validation_data = test_set,\n",
    "                         validation_steps = 50)\n",
    "\n",
    "\n",
    "\n",
    "from tensorflow.keras.preprocessing import image\n",
    "test_image = image.load_img ('Binary_Data/Single/C.JPG', target_size= (64, 64))\n",
    "test_image.show()\n",
    "test_image = image.img_to_array (test_image)\n",
    "test_image = np.expand_dims(test_image, axis = 0)\n",
    "results = CNN_Classifier.predict(test_image)\n",
    "training_set.class_indices\n",
    "if results[0][0] == 0:\n",
    "    prediction = 'Healthy'\n",
    "    print(prediction)\n",
    "else:\n",
    "    prediction = 'Unhealthy'\n",
    "    print(prediction)\n",
    "    "
   ]
  },
  {
   "cell_type": "code",
   "execution_count": 8,
   "id": "f5b8f0fc",
   "metadata": {},
   "outputs": [],
   "source": [
    "CNN_Classifier.save('binary_CNN.h5')"
   ]
  },
  {
   "cell_type": "code",
   "execution_count": 10,
   "id": "c6ec7332",
   "metadata": {},
   "outputs": [
    {
     "name": "stdout",
     "output_type": "stream",
     "text": [
      "1/1 [==============================] - 0s 21ms/step\n",
      "Healthy\n"
     ]
    }
   ],
   "source": [
    "from tensorflow import Graph\n",
    "import tensorflow as tf\n",
    "from tensorflow import keras\n",
    "from keras.models import load_model\n",
    "import numpy as np\n",
    "\n",
    "\n",
    "\n",
    "\n",
    "from tensorflow.keras.preprocessing import image\n",
    "test_image = image.load_img ('Binary_Data/Single/A.JPG', target_size= (64, 64))\n",
    "test_image.show()\n",
    "test_image = image.img_to_array (test_image)\n",
    "test_image = np.expand_dims(test_image, axis = 0)\n",
    "results = CNN_Classifier.predict(test_image)\n",
    "training_set.class_indices\n",
    "if results[0][0] == 0:\n",
    "    prediction = 'Healthy'\n",
    "    print(prediction)\n",
    "else:\n",
    "    prediction = 'Unhealthy'\n",
    "    print(prediction)\n",
    "        \n"
   ]
  },
  {
   "cell_type": "code",
   "execution_count": null,
   "id": "3ae5d85f",
   "metadata": {},
   "outputs": [],
   "source": []
  }
 ],
 "metadata": {
  "kernelspec": {
   "display_name": "Python 3 (ipykernel)",
   "language": "python",
   "name": "python3"
  },
  "language_info": {
   "codemirror_mode": {
    "name": "ipython",
    "version": 3
   },
   "file_extension": ".py",
   "mimetype": "text/x-python",
   "name": "python",
   "nbconvert_exporter": "python",
   "pygments_lexer": "ipython3",
   "version": "3.10.6"
  }
 },
 "nbformat": 4,
 "nbformat_minor": 5
}
